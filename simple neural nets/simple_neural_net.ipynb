{
 "cells": [
  {
   "cell_type": "code",
   "execution_count": 2,
   "metadata": {},
   "outputs": [],
   "source": [
    "import numpy as np\n",
    "from sklearn.datasets import load_digits"
   ]
  },
  {
   "cell_type": "code",
   "execution_count": null,
   "metadata": {},
   "outputs": [],
   "source": [
    "class NeuralNet:\n",
    "    \n",
    "    def __init__(self, X, y):\n",
    "        # I/O layers\n",
    "        self.input = X\n",
    "        self.y = y\n",
    "        # Neuron counts\n",
    "        self.num_input = X.shape[0]\n",
    "        self.num_output = y.shape[0]\n",
    "        self.num_hidden = 256\n",
    "        # Weights\n",
    "        self.weights_1 = self.get_weights(self.num_input, self.num_hidden)\n",
    "        self.weights_2 = self.get_weights(self.num_hidden, self.num_hidden)\n",
    "        self.output = self.get_weights(self.num_hidden, self.num_output)\n",
    "        # Biases\n",
    "        self.bias_1 = self.get_bias(self.num_hidden)\n",
    "        self.bias_2 = self.get_bias(self.num_hidden)\n",
    "        self.bias_3 = self.get_bias(self.num_output)\n",
    "        \n",
    "        def get_bias(self, length):\n",
    "            \"\"\"Bias initialization\"\"\"\n",
    "            return np.randn((length))\n",
    "        \n",
    "        def get_weights(self, dim_1, dim_2):\n",
    "            \"\"\"Weights initialization\"\"\"\n",
    "            return np.randn((dim_1, dim_2))\n",
    "        \n",
    "        def forward_step(self):\n",
    "            \n",
    "    "
   ]
  }
 ],
 "metadata": {
  "kernelspec": {
   "display_name": "Python 3",
   "language": "python",
   "name": "python3"
  },
  "language_info": {
   "codemirror_mode": {
    "name": "ipython",
    "version": 3
   },
   "file_extension": ".py",
   "mimetype": "text/x-python",
   "name": "python",
   "nbconvert_exporter": "python",
   "pygments_lexer": "ipython3",
   "version": "3.6.5"
  }
 },
 "nbformat": 4,
 "nbformat_minor": 2
}
