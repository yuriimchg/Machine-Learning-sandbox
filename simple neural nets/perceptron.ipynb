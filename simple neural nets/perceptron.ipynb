{
 "cells": [
  {
   "cell_type": "code",
   "execution_count": 1,
   "metadata": {},
   "outputs": [],
   "source": [
    "import numpy as np"
   ]
  },
  {
   "cell_type": "code",
   "execution_count": 101,
   "metadata": {},
   "outputs": [],
   "source": [
    "class Perceptron:\n",
    "    \n",
    "    def __init__(self, N, alpha=0.1):\n",
    "        self.W = np.random.randn(N+1) / np.sqrt(N)\n",
    "        self.alpha = alpha\n",
    "    \n",
    "    def step(self, x):\n",
    "        # step func\n",
    "        return 1 if x > 0 else 0\n",
    "    \n",
    "    def relu(self,x):\n",
    "        # relu func\n",
    "        return x if x > 0 else 0\n",
    "    \n",
    "    def sigmoid(self,x):\n",
    "        # sigmoid function\n",
    "        return 1 / (1 + np.exp(-x))\n",
    "    \n",
    "    def tanh(self,x):\n",
    "        # tanh function\n",
    "        return (1 + np.exp(-2*x) / (1 - np.exp(-2*x)))\n",
    "    \n",
    "    def fit(self, X, y, epochs=10):\n",
    "        # Insert bias into X\n",
    "        X = np.c_[X, np.ones((X.shape[0]))]\n",
    "        for epoch in np.arange(0,epochs):\n",
    "            for x, target in zip(X,y):\n",
    "                # take dot product between features and weight matrix into step function as argument\n",
    "                p = self.step(np.dot(x,self.W))\n",
    "                \n",
    "                # weight matrix update\n",
    "                if p != target:\n",
    "                    error = p - target\n",
    "                    self.W += - self.alpha * error * x\n",
    "        return self.W\n",
    "                    \n",
    "    def predict(self, X, addBias=True):\n",
    "        # set X to be 2d matrix\n",
    "        X = np.atleast_2d(X)\n",
    "        \n",
    "        if addBias:\n",
    "            X = np.c_[X, np.ones((X.shape[0]))]\n",
    "            \n",
    "        return self.step(np.dot(X, self.W))"
   ]
  },
  {
   "cell_type": "code",
   "execution_count": 102,
   "metadata": {},
   "outputs": [],
   "source": [
    "def do_a_pred(X,y):\n",
    "    p = Perceptron(X.shape[1], alpha=0.1)\n",
    "    p.fit(X, y, epochs=20)\n",
    "    for x, target in zip(X,y):\n",
    "        pred = p.predict(x)\n",
    "        print(f'data = {x}, True = {target[0]}, predicted = {pred}')"
   ]
  },
  {
   "cell_type": "markdown",
   "metadata": {},
   "source": [
    "Try OR dataset"
   ]
  },
  {
   "cell_type": "code",
   "execution_count": 118,
   "metadata": {},
   "outputs": [],
   "source": [
    "X = np.array([[0,0], [0,1], [1,0], [1,1]])\n",
    "y = np.array([[0],[1],[1],[1]])"
   ]
  },
  {
   "cell_type": "code",
   "execution_count": 140,
   "metadata": {
    "scrolled": false
   },
   "outputs": [
    {
     "name": "stdout",
     "output_type": "stream",
     "text": [
      "data = [0 0], True = 0, predicted = 0\n",
      "data = [0 1], True = 1, predicted = 1\n",
      "data = [1 0], True = 1, predicted = 1\n",
      "data = [1 1], True = 1, predicted = 1\n"
     ]
    }
   ],
   "source": [
    "p = None\n",
    "do_a_pred(X,y)"
   ]
  },
  {
   "cell_type": "markdown",
   "metadata": {},
   "source": [
    "Try AND dataset"
   ]
  },
  {
   "cell_type": "code",
   "execution_count": 150,
   "metadata": {},
   "outputs": [
    {
     "name": "stdout",
     "output_type": "stream",
     "text": [
      "data = [0 0], True = 0, predicted = 0\n",
      "data = [0 1], True = 0, predicted = 0\n",
      "data = [1 0], True = 0, predicted = 0\n",
      "data = [1 1], True = 1, predicted = 1\n"
     ]
    }
   ],
   "source": [
    "y = np.array([[0],[0],[0],[1]])\n",
    "p = None\n",
    "do_a_pred(X,y)"
   ]
  },
  {
   "cell_type": "markdown",
   "metadata": {},
   "source": [
    "Try XOR dataset"
   ]
  },
  {
   "cell_type": "code",
   "execution_count": 151,
   "metadata": {},
   "outputs": [],
   "source": [
    "y = np.array([[0],[1],[1],[0]])"
   ]
  },
  {
   "cell_type": "code",
   "execution_count": 176,
   "metadata": {},
   "outputs": [
    {
     "name": "stdout",
     "output_type": "stream",
     "text": [
      "data = [0 0], True = 0, predicted = 1\n",
      "data = [0 1], True = 1, predicted = 0\n",
      "data = [1 0], True = 1, predicted = 0\n",
      "data = [1 1], True = 0, predicted = 0\n"
     ]
    }
   ],
   "source": [
    "p = None\n",
    "do_a_pred(X,y)"
   ]
  }
 ],
 "metadata": {
  "kernelspec": {
   "display_name": "tf",
   "language": "python",
   "name": "tf"
  },
  "language_info": {
   "codemirror_mode": {
    "name": "ipython",
    "version": 3
   },
   "file_extension": ".py",
   "mimetype": "text/x-python",
   "name": "python",
   "nbconvert_exporter": "python",
   "pygments_lexer": "ipython3",
   "version": "3.6.6"
  }
 },
 "nbformat": 4,
 "nbformat_minor": 2
}
