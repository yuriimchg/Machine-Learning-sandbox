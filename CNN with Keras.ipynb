{
 "cells": [
  {
   "cell_type": "code",
   "execution_count": 19,
   "metadata": {
    "scrolled": true
   },
   "outputs": [],
   "source": [
    "from keras.preprocessing.image import img_to_array\n",
    "from keras.models import Sequential\n",
    "from keras.layers.convolutional import Conv2D\n",
    "from keras.layers.core import Activation, Dense, Flatten\n",
    "from keras import backend\n",
    "from keras.optimizers import SGD\n",
    "from sklearn.metrics import classification_report\n",
    "from sklearn.preprocessing import LabelBinarizer as lbin\n",
    "\n",
    "import numpy as np\n",
    "import matplotlib.pyplot as plt"
   ]
  },
  {
   "cell_type": "markdown",
   "metadata": {},
   "source": [
    "### Make advanced branching with wrapping $img\\_to\\_array$ function into a class"
   ]
  },
  {
   "cell_type": "code",
   "execution_count": 2,
   "metadata": {},
   "outputs": [],
   "source": [
    "class ArrayFromImage:\n",
    "    \n",
    "    def __init__(self, data_format=None):\n",
    "        # data format of the image\n",
    "        self.data_format = data_format\n",
    "    def convert(self, image):\n",
    "        # perform reshaping input image into array \n",
    "        return img_to_array(image, data_format=self.data_format)"
   ]
  },
  {
   "cell_type": "markdown",
   "metadata": {},
   "source": [
    "<center><h2>ShallowNet</h2>\n",
    "<h4>a CNN with one convolutional layer</h4>\n",
    "\n",
    "<h4> $ INPUT =>  CONV  =>  RELU  =>   FC $</h4>\n",
    "</center>\n"
   ]
  },
  {
   "cell_type": "code",
   "execution_count": 3,
   "metadata": {},
   "outputs": [],
   "source": [
    "class ShallowNet:\n",
    "    @staticmethod\n",
    "    def build(w, h, d, classes):\n",
    "        # Initialize the model\n",
    "        model = Sequential()\n",
    "        # Set the shape of input layer\n",
    "        input_layer_shape = (h,w,d)\n",
    "        # Add CONV layer\n",
    "        model.add(Conv2D(32,(3,3), padding=\"same\", input_shape=input_layer_shape))\n",
    "        # Set activation function of the CONV layer\n",
    "        model.add(Activation(\"relu\"))\n",
    "        # Reshape 32, 3, 3 into 32 * 3 * 3\n",
    "        model.add(Flatten())\n",
    "        # Add softmax classifier\n",
    "        model.add(Dense(classes))\n",
    "        model.add(Activation(\"softmax\"))\n",
    "        \n",
    "        return model"
   ]
  },
  {
   "cell_type": "markdown",
   "metadata": {},
   "source": [
    "### 1. Try ShallowNet with MNIST dataset"
   ]
  },
  {
   "cell_type": "code",
   "execution_count": 4,
   "metadata": {},
   "outputs": [],
   "source": [
    "from keras.datasets import mnist"
   ]
  },
  {
   "cell_type": "markdown",
   "metadata": {},
   "source": [
    "Load MNIST dataset"
   ]
  },
  {
   "cell_type": "code",
   "execution_count": 13,
   "metadata": {},
   "outputs": [],
   "source": [
    "(X_train, y_train), (X_test, y_test) = mnist.load_data()"
   ]
  },
  {
   "cell_type": "code",
   "execution_count": 14,
   "metadata": {},
   "outputs": [],
   "source": [
    "X_train = X_train / 255\n",
    "X_test = X_test / 255"
   ]
  },
  {
   "cell_type": "markdown",
   "metadata": {},
   "source": [
    "Hyperparameters and input shapes"
   ]
  },
  {
   "cell_type": "code",
   "execution_count": 15,
   "metadata": {},
   "outputs": [],
   "source": [
    "learning_rate = 0.001\n",
    "optimizer = SGD(learning_rate)\n",
    "batch_size = 32\n",
    "w, h = X_train[0].shape\n",
    "d = 1\n",
    "classes = 10\n",
    "epochs = 100\n",
    "verbose = 1"
   ]
  },
  {
   "cell_type": "code",
   "execution_count": 16,
   "metadata": {},
   "outputs": [],
   "source": [
    "X_train = X_train.reshape(X_train.shape[0], w, h, 1)\n",
    "X_test = X_test.reshape(X_test.shape[0], w, h, 1)"
   ]
  },
  {
   "cell_type": "code",
   "execution_count": 9,
   "metadata": {
    "scrolled": false
   },
   "outputs": [
    {
     "data": {
      "text/plain": [
       "(32, 28, 28)"
      ]
     },
     "execution_count": 9,
     "metadata": {},
     "output_type": "execute_result"
    }
   ],
   "source": [
    "(batch_size, h,w)"
   ]
  },
  {
   "cell_type": "markdown",
   "metadata": {},
   "source": [
    "Convert labels to one-hot encoding"
   ]
  },
  {
   "cell_type": "code",
   "execution_count": 17,
   "metadata": {},
   "outputs": [],
   "source": [
    "y_train = lbin().fit_transform(y_train)\n",
    "y_test = lbin().fit_transform(y_test)"
   ]
  },
  {
   "cell_type": "code",
   "execution_count": 18,
   "metadata": {
    "scrolled": true
   },
   "outputs": [
    {
     "name": "stdout",
     "output_type": "stream",
     "text": [
      "Train on 60000 samples, validate on 10000 samples\n",
      "Epoch 1/100\n",
      "60000/60000 [==============================] - 5s 77us/step - loss: 1.1721 - acc: 0.7537 - val_loss: 0.4996 - val_acc: 0.8745\n",
      "Epoch 2/100\n",
      "60000/60000 [==============================] - 5s 76us/step - loss: 0.4451 - acc: 0.8802 - val_loss: 0.3725 - val_acc: 0.8992\n",
      "Epoch 3/100\n",
      "60000/60000 [==============================] - 5s 75us/step - loss: 0.3758 - acc: 0.8944 - val_loss: 0.3379 - val_acc: 0.9066\n",
      "Epoch 4/100\n",
      "60000/60000 [==============================] - 5s 76us/step - loss: 0.3483 - acc: 0.9011 - val_loss: 0.3196 - val_acc: 0.9106\n",
      "Epoch 5/100\n",
      "60000/60000 [==============================] - 5s 82us/step - loss: 0.3319 - acc: 0.9057 - val_loss: 0.3075 - val_acc: 0.9132\n",
      "Epoch 6/100\n",
      "60000/60000 [==============================] - 5s 78us/step - loss: 0.3203 - acc: 0.9088 - val_loss: 0.2995 - val_acc: 0.9155\n",
      "Epoch 7/100\n",
      "60000/60000 [==============================] - 5s 81us/step - loss: 0.3122 - acc: 0.9116 - val_loss: 0.2929 - val_acc: 0.9176\n",
      "Epoch 8/100\n",
      "60000/60000 [==============================] - 5s 80us/step - loss: 0.3055 - acc: 0.9131 - val_loss: 0.2918 - val_acc: 0.9176\n",
      "Epoch 9/100\n",
      "60000/60000 [==============================] - 5s 83us/step - loss: 0.3005 - acc: 0.9147 - val_loss: 0.2860 - val_acc: 0.9202\n",
      "Epoch 10/100\n",
      "60000/60000 [==============================] - 4s 75us/step - loss: 0.2960 - acc: 0.9160 - val_loss: 0.2832 - val_acc: 0.9189\n",
      "Epoch 11/100\n",
      "60000/60000 [==============================] - 4s 73us/step - loss: 0.2922 - acc: 0.9177 - val_loss: 0.2788 - val_acc: 0.9211\n",
      "Epoch 12/100\n",
      "60000/60000 [==============================] - 4s 73us/step - loss: 0.2891 - acc: 0.9182 - val_loss: 0.2771 - val_acc: 0.9206\n",
      "Epoch 13/100\n",
      "60000/60000 [==============================] - 4s 72us/step - loss: 0.2862 - acc: 0.9193 - val_loss: 0.2751 - val_acc: 0.9214\n",
      "Epoch 14/100\n",
      "60000/60000 [==============================] - 4s 71us/step - loss: 0.2835 - acc: 0.9200 - val_loss: 0.2761 - val_acc: 0.9208\n",
      "Epoch 15/100\n",
      "60000/60000 [==============================] - 4s 73us/step - loss: 0.2810 - acc: 0.9209 - val_loss: 0.2726 - val_acc: 0.9224\n",
      "Epoch 16/100\n",
      "60000/60000 [==============================] - 5s 75us/step - loss: 0.2787 - acc: 0.9216 - val_loss: 0.2691 - val_acc: 0.9243\n",
      "Epoch 17/100\n",
      "60000/60000 [==============================] - 4s 74us/step - loss: 0.2762 - acc: 0.9226 - val_loss: 0.2681 - val_acc: 0.9241\n",
      "Epoch 18/100\n",
      "60000/60000 [==============================] - 5s 76us/step - loss: 0.2740 - acc: 0.9234 - val_loss: 0.2674 - val_acc: 0.9239\n",
      "Epoch 19/100\n",
      "60000/60000 [==============================] - 4s 72us/step - loss: 0.2719 - acc: 0.9239 - val_loss: 0.2634 - val_acc: 0.9258\n",
      "Epoch 20/100\n",
      "60000/60000 [==============================] - 4s 73us/step - loss: 0.2701 - acc: 0.9243 - val_loss: 0.2621 - val_acc: 0.9257\n",
      "Epoch 21/100\n",
      "60000/60000 [==============================] - 4s 71us/step - loss: 0.2677 - acc: 0.9250 - val_loss: 0.2617 - val_acc: 0.9272\n",
      "Epoch 22/100\n",
      "60000/60000 [==============================] - 4s 70us/step - loss: 0.2659 - acc: 0.9254 - val_loss: 0.2585 - val_acc: 0.9268\n",
      "Epoch 23/100\n",
      "60000/60000 [==============================] - 4s 69us/step - loss: 0.2636 - acc: 0.9259 - val_loss: 0.2556 - val_acc: 0.9285\n",
      "Epoch 24/100\n",
      "60000/60000 [==============================] - 4s 69us/step - loss: 0.2615 - acc: 0.9267 - val_loss: 0.2543 - val_acc: 0.9282\n",
      "Epoch 25/100\n",
      "60000/60000 [==============================] - 4s 69us/step - loss: 0.2595 - acc: 0.9274 - val_loss: 0.2555 - val_acc: 0.9261\n",
      "Epoch 26/100\n",
      "60000/60000 [==============================] - 4s 69us/step - loss: 0.2573 - acc: 0.9281 - val_loss: 0.2525 - val_acc: 0.9276\n",
      "Epoch 27/100\n",
      "60000/60000 [==============================] - 4s 69us/step - loss: 0.2551 - acc: 0.9287 - val_loss: 0.2510 - val_acc: 0.9284\n",
      "Epoch 28/100\n",
      "60000/60000 [==============================] - 4s 69us/step - loss: 0.2530 - acc: 0.9294 - val_loss: 0.2477 - val_acc: 0.9296\n",
      "Epoch 29/100\n",
      "60000/60000 [==============================] - 4s 69us/step - loss: 0.2508 - acc: 0.9301 - val_loss: 0.2453 - val_acc: 0.9303\n",
      "Epoch 30/100\n",
      "60000/60000 [==============================] - 4s 69us/step - loss: 0.2486 - acc: 0.9309 - val_loss: 0.2435 - val_acc: 0.9319\n",
      "Epoch 31/100\n",
      "60000/60000 [==============================] - 4s 69us/step - loss: 0.2462 - acc: 0.9314 - val_loss: 0.2410 - val_acc: 0.9330\n",
      "Epoch 32/100\n",
      "60000/60000 [==============================] - 4s 69us/step - loss: 0.2438 - acc: 0.9320 - val_loss: 0.2379 - val_acc: 0.9320\n",
      "Epoch 33/100\n",
      "60000/60000 [==============================] - 4s 69us/step - loss: 0.2414 - acc: 0.9334 - val_loss: 0.2363 - val_acc: 0.9334\n",
      "Epoch 34/100\n",
      "60000/60000 [==============================] - 4s 68us/step - loss: 0.2389 - acc: 0.9335 - val_loss: 0.2359 - val_acc: 0.9339\n",
      "Epoch 35/100\n",
      "60000/60000 [==============================] - 4s 70us/step - loss: 0.2364 - acc: 0.9351 - val_loss: 0.2336 - val_acc: 0.9340\n",
      "Epoch 36/100\n",
      "60000/60000 [==============================] - 4s 68us/step - loss: 0.2338 - acc: 0.9351 - val_loss: 0.2319 - val_acc: 0.9344\n",
      "Epoch 37/100\n",
      "60000/60000 [==============================] - 4s 69us/step - loss: 0.2312 - acc: 0.9364 - val_loss: 0.2274 - val_acc: 0.9369\n",
      "Epoch 38/100\n",
      "60000/60000 [==============================] - 4s 69us/step - loss: 0.2285 - acc: 0.9366 - val_loss: 0.2246 - val_acc: 0.9375\n",
      "Epoch 39/100\n",
      "60000/60000 [==============================] - 4s 69us/step - loss: 0.2258 - acc: 0.9377 - val_loss: 0.2235 - val_acc: 0.9360\n",
      "Epoch 40/100\n",
      "60000/60000 [==============================] - 4s 69us/step - loss: 0.2231 - acc: 0.9385 - val_loss: 0.2184 - val_acc: 0.9380\n",
      "Epoch 41/100\n",
      "60000/60000 [==============================] - 4s 68us/step - loss: 0.2202 - acc: 0.9395 - val_loss: 0.2170 - val_acc: 0.9394\n",
      "Epoch 42/100\n",
      "60000/60000 [==============================] - 4s 69us/step - loss: 0.2173 - acc: 0.9403 - val_loss: 0.2166 - val_acc: 0.9394\n",
      "Epoch 43/100\n",
      "60000/60000 [==============================] - 4s 69us/step - loss: 0.2146 - acc: 0.9413 - val_loss: 0.2117 - val_acc: 0.9409\n",
      "Epoch 44/100\n",
      "60000/60000 [==============================] - 4s 69us/step - loss: 0.2116 - acc: 0.9421 - val_loss: 0.2100 - val_acc: 0.9402\n",
      "Epoch 45/100\n",
      "60000/60000 [==============================] - 4s 69us/step - loss: 0.2087 - acc: 0.9432 - val_loss: 0.2053 - val_acc: 0.9427\n",
      "Epoch 46/100\n",
      "60000/60000 [==============================] - 4s 69us/step - loss: 0.2056 - acc: 0.9441 - val_loss: 0.2054 - val_acc: 0.9434\n",
      "Epoch 47/100\n",
      "60000/60000 [==============================] - 4s 69us/step - loss: 0.2027 - acc: 0.9450 - val_loss: 0.2000 - val_acc: 0.9446\n",
      "Epoch 48/100\n",
      "60000/60000 [==============================] - 4s 69us/step - loss: 0.1995 - acc: 0.9459 - val_loss: 0.1986 - val_acc: 0.9456\n",
      "Epoch 49/100\n",
      "60000/60000 [==============================] - 4s 69us/step - loss: 0.1967 - acc: 0.9466 - val_loss: 0.1948 - val_acc: 0.9452\n",
      "Epoch 50/100\n",
      "60000/60000 [==============================] - 4s 70us/step - loss: 0.1938 - acc: 0.9473 - val_loss: 0.1942 - val_acc: 0.9479\n",
      "Epoch 51/100\n",
      "60000/60000 [==============================] - 4s 69us/step - loss: 0.1908 - acc: 0.9486 - val_loss: 0.1894 - val_acc: 0.9484\n",
      "Epoch 52/100\n",
      "60000/60000 [==============================] - 4s 69us/step - loss: 0.1878 - acc: 0.9490 - val_loss: 0.1875 - val_acc: 0.9479\n",
      "Epoch 53/100\n",
      "60000/60000 [==============================] - 4s 69us/step - loss: 0.1850 - acc: 0.9495 - val_loss: 0.1830 - val_acc: 0.9499\n",
      "Epoch 54/100\n",
      "60000/60000 [==============================] - 4s 69us/step - loss: 0.1822 - acc: 0.9505 - val_loss: 0.1808 - val_acc: 0.9513\n",
      "Epoch 55/100\n",
      "60000/60000 [==============================] - 4s 70us/step - loss: 0.1793 - acc: 0.9518 - val_loss: 0.1803 - val_acc: 0.9507\n",
      "Epoch 56/100\n",
      "60000/60000 [==============================] - 4s 69us/step - loss: 0.1765 - acc: 0.9520 - val_loss: 0.1747 - val_acc: 0.9524\n",
      "Epoch 57/100\n",
      "60000/60000 [==============================] - 4s 69us/step - loss: 0.1737 - acc: 0.9532 - val_loss: 0.1730 - val_acc: 0.9542\n",
      "Epoch 58/100\n",
      "60000/60000 [==============================] - 4s 70us/step - loss: 0.1710 - acc: 0.9543 - val_loss: 0.1706 - val_acc: 0.9537\n",
      "Epoch 59/100\n"
     ]
    },
    {
     "name": "stdout",
     "output_type": "stream",
     "text": [
      "60000/60000 [==============================] - 4s 69us/step - loss: 0.1682 - acc: 0.9552 - val_loss: 0.1671 - val_acc: 0.9548\n",
      "Epoch 60/100\n",
      "60000/60000 [==============================] - 4s 69us/step - loss: 0.1655 - acc: 0.9554 - val_loss: 0.1649 - val_acc: 0.9553\n",
      "Epoch 61/100\n",
      "60000/60000 [==============================] - 4s 69us/step - loss: 0.1630 - acc: 0.9568 - val_loss: 0.1625 - val_acc: 0.9565\n",
      "Epoch 62/100\n",
      "60000/60000 [==============================] - 4s 69us/step - loss: 0.1604 - acc: 0.9570 - val_loss: 0.1605 - val_acc: 0.9564\n",
      "Epoch 63/100\n",
      "60000/60000 [==============================] - 4s 69us/step - loss: 0.1580 - acc: 0.9576 - val_loss: 0.1583 - val_acc: 0.9567\n",
      "Epoch 64/100\n",
      "60000/60000 [==============================] - 4s 69us/step - loss: 0.1555 - acc: 0.9585 - val_loss: 0.1563 - val_acc: 0.9574\n",
      "Epoch 65/100\n",
      "60000/60000 [==============================] - 4s 69us/step - loss: 0.1530 - acc: 0.9588 - val_loss: 0.1530 - val_acc: 0.9587\n",
      "Epoch 66/100\n",
      "60000/60000 [==============================] - 4s 69us/step - loss: 0.1506 - acc: 0.9597 - val_loss: 0.1509 - val_acc: 0.9594\n",
      "Epoch 67/100\n",
      "60000/60000 [==============================] - 4s 69us/step - loss: 0.1483 - acc: 0.9603 - val_loss: 0.1487 - val_acc: 0.9598\n",
      "Epoch 68/100\n",
      "60000/60000 [==============================] - 4s 69us/step - loss: 0.1461 - acc: 0.9608 - val_loss: 0.1470 - val_acc: 0.9604\n",
      "Epoch 69/100\n",
      "60000/60000 [==============================] - 4s 70us/step - loss: 0.1438 - acc: 0.9617 - val_loss: 0.1441 - val_acc: 0.9611\n",
      "Epoch 70/100\n",
      "60000/60000 [==============================] - 4s 69us/step - loss: 0.1417 - acc: 0.9623 - val_loss: 0.1423 - val_acc: 0.9621\n",
      "Epoch 71/100\n",
      "60000/60000 [==============================] - 4s 69us/step - loss: 0.1397 - acc: 0.9627 - val_loss: 0.1416 - val_acc: 0.9615\n",
      "Epoch 72/100\n",
      "60000/60000 [==============================] - 4s 69us/step - loss: 0.1376 - acc: 0.9633 - val_loss: 0.1394 - val_acc: 0.9617\n",
      "Epoch 73/100\n",
      "60000/60000 [==============================] - 4s 69us/step - loss: 0.1356 - acc: 0.9640 - val_loss: 0.1369 - val_acc: 0.9618\n",
      "Epoch 74/100\n",
      "60000/60000 [==============================] - 4s 69us/step - loss: 0.1336 - acc: 0.9645 - val_loss: 0.1363 - val_acc: 0.9631\n",
      "Epoch 75/100\n",
      "60000/60000 [==============================] - 4s 73us/step - loss: 0.1318 - acc: 0.9651 - val_loss: 0.1325 - val_acc: 0.9645\n",
      "Epoch 76/100\n",
      "60000/60000 [==============================] - 4s 70us/step - loss: 0.1299 - acc: 0.9655 - val_loss: 0.1309 - val_acc: 0.9647\n",
      "Epoch 77/100\n",
      "60000/60000 [==============================] - 4s 70us/step - loss: 0.1281 - acc: 0.9660 - val_loss: 0.1305 - val_acc: 0.9641\n",
      "Epoch 78/100\n",
      "60000/60000 [==============================] - 4s 70us/step - loss: 0.1264 - acc: 0.9665 - val_loss: 0.1282 - val_acc: 0.9649\n",
      "Epoch 79/100\n",
      "60000/60000 [==============================] - 4s 70us/step - loss: 0.1248 - acc: 0.9670 - val_loss: 0.1261 - val_acc: 0.9660\n",
      "Epoch 80/100\n",
      "60000/60000 [==============================] - 4s 69us/step - loss: 0.1230 - acc: 0.9673 - val_loss: 0.1254 - val_acc: 0.9662\n",
      "Epoch 81/100\n",
      "60000/60000 [==============================] - 4s 69us/step - loss: 0.1215 - acc: 0.9679 - val_loss: 0.1242 - val_acc: 0.9650\n",
      "Epoch 82/100\n",
      "60000/60000 [==============================] - 4s 69us/step - loss: 0.1200 - acc: 0.9683 - val_loss: 0.1215 - val_acc: 0.9665\n",
      "Epoch 83/100\n",
      "60000/60000 [==============================] - 4s 69us/step - loss: 0.1184 - acc: 0.9689 - val_loss: 0.1211 - val_acc: 0.9658\n",
      "Epoch 84/100\n",
      "60000/60000 [==============================] - 4s 69us/step - loss: 0.1168 - acc: 0.9692 - val_loss: 0.1198 - val_acc: 0.9667\n",
      "Epoch 85/100\n",
      "60000/60000 [==============================] - 4s 69us/step - loss: 0.1156 - acc: 0.9696 - val_loss: 0.1186 - val_acc: 0.9665\n",
      "Epoch 86/100\n",
      "60000/60000 [==============================] - 4s 69us/step - loss: 0.1141 - acc: 0.9701 - val_loss: 0.1164 - val_acc: 0.9675\n",
      "Epoch 87/100\n",
      "60000/60000 [==============================] - 4s 69us/step - loss: 0.1127 - acc: 0.9706 - val_loss: 0.1156 - val_acc: 0.9682\n",
      "Epoch 88/100\n",
      "60000/60000 [==============================] - 4s 69us/step - loss: 0.1114 - acc: 0.9705 - val_loss: 0.1141 - val_acc: 0.9682\n",
      "Epoch 89/100\n",
      "60000/60000 [==============================] - 4s 69us/step - loss: 0.1101 - acc: 0.9712 - val_loss: 0.1146 - val_acc: 0.9671\n",
      "Epoch 90/100\n",
      "60000/60000 [==============================] - 4s 70us/step - loss: 0.1089 - acc: 0.9714 - val_loss: 0.1125 - val_acc: 0.9686\n",
      "Epoch 91/100\n",
      "60000/60000 [==============================] - 4s 69us/step - loss: 0.1075 - acc: 0.9719 - val_loss: 0.1111 - val_acc: 0.9688\n",
      "Epoch 92/100\n",
      "60000/60000 [==============================] - 4s 69us/step - loss: 0.1064 - acc: 0.9722 - val_loss: 0.1125 - val_acc: 0.9680\n",
      "Epoch 93/100\n",
      "60000/60000 [==============================] - 4s 70us/step - loss: 0.1052 - acc: 0.9725 - val_loss: 0.1088 - val_acc: 0.9700\n",
      "Epoch 94/100\n",
      "60000/60000 [==============================] - 4s 68us/step - loss: 0.1042 - acc: 0.9727 - val_loss: 0.1088 - val_acc: 0.9690\n",
      "Epoch 95/100\n",
      "60000/60000 [==============================] - 4s 68us/step - loss: 0.1030 - acc: 0.9731 - val_loss: 0.1061 - val_acc: 0.9707\n",
      "Epoch 96/100\n",
      "60000/60000 [==============================] - 4s 71us/step - loss: 0.1019 - acc: 0.9733 - val_loss: 0.1060 - val_acc: 0.9708\n",
      "Epoch 97/100\n",
      "60000/60000 [==============================] - 4s 67us/step - loss: 0.1007 - acc: 0.9737 - val_loss: 0.1045 - val_acc: 0.9717\n",
      "Epoch 98/100\n",
      "60000/60000 [==============================] - 4s 69us/step - loss: 0.0997 - acc: 0.9740 - val_loss: 0.1039 - val_acc: 0.9712\n",
      "Epoch 99/100\n",
      "60000/60000 [==============================] - 4s 67us/step - loss: 0.0987 - acc: 0.9743 - val_loss: 0.1031 - val_acc: 0.9715\n",
      "Epoch 100/100\n",
      "60000/60000 [==============================] - 4s 68us/step - loss: 0.0978 - acc: 0.9743 - val_loss: 0.1018 - val_acc: 0.9711\n"
     ]
    }
   ],
   "source": [
    "model = ShallowNet.build(w,h,d, classes)\n",
    "\n",
    "model.compile(loss='categorical_crossentropy', optimizer=optimizer, metrics=[\"accuracy\"])\n",
    "\n",
    "tr = model.fit(X_train, y_train, validation_data = (X_test, y_test), batch_size=batch_size, epochs=epochs, verbose = verbose)"
   ]
  },
  {
   "cell_type": "code",
   "execution_count": 28,
   "metadata": {},
   "outputs": [
    {
     "data": {
      "image/png": "[encoded data removed]",
      "text/plain": [
       "<Figure size 1080x432 with 1 Axes>"
      ]
     },
     "metadata": {
      "needs_background": "light"
     },
     "output_type": "display_data"
    }
   ],
   "source": [
    "plt.figure(figsize=(15,6))\n",
    "plt.plot(np.arange(0,epochs), tr.history[\"acc\"])\n",
    "plt.plot(np.arange(0,epochs), tr.history[\"val_acc\"])\n",
    "plt.legend(('Accuracy', \"Test Acc\"))\n",
    "plt.show()\n"
   ]
  },
  {
   "cell_type": "code",
   "execution_count": 29,
   "metadata": {},
   "outputs": [
    {
     "data": {
      "image/png": "[encoded data removed]",
      "text/plain": [
       "<Figure size 1080x432 with 1 Axes>"
      ]
     },
     "metadata": {
      "needs_background": "light"
     },
     "output_type": "display_data"
    }
   ],
   "source": [
    "plt.figure(figsize=(15,6))\n",
    "plt.plot(np.arange(0,epochs), tr.history[\"loss\"])\n",
    "plt.plot(np.arange(0,epochs), tr.history[\"val_loss\"])\n",
    "plt.legend(('Accuracy', \"Test Acc\"))\n",
    "plt.show()"
   ]
  },
  {
   "cell_type": "markdown",
   "metadata": {},
   "source": [
    "[Loss, Accuracy]"
   ]
  },
  {
   "cell_type": "code",
   "execution_count": 30,
   "metadata": {
    "scrolled": true
   },
   "outputs": [
    {
     "name": "stdout",
     "output_type": "stream",
     "text": [
      "10000/10000 [==============================] - 0s 38us/step\n"
     ]
    },
    {
     "data": {
      "text/plain": [
       "[0.10180116315111518, 0.9711]"
      ]
     },
     "execution_count": 30,
     "metadata": {},
     "output_type": "execute_result"
    }
   ],
   "source": [
    "model.evaluate(X_test, y_test, verbose=1)\n"
   ]
  },
  {
   "cell_type": "markdown",
   "metadata": {},
   "source": [
    "# 2. ShallowNet with CIFAR-10"
   ]
  },
  {
   "cell_type": "code",
   "execution_count": null,
   "metadata": {},
   "outputs": [],
   "source": [
    "b"
   ]
  }
 ],
 "metadata": {
  "kernelspec": {
   "display_name": "tf",
   "language": "python",
   "name": "tf"
  },
  "language_info": {
   "codemirror_mode": {
    "name": "ipython",
    "version": 3
   },
   "file_extension": ".py",
   "mimetype": "text/x-python",
   "name": "python",
   "nbconvert_exporter": "python",
   "pygments_lexer": "ipython3",
   "version": "3.6.6"
  }
 },
 "nbformat": 4,
 "nbformat_minor": 2
}
