{
 "cells": [
  {
   "cell_type": "code",
   "execution_count": 1,
   "metadata": {
    "scrolled": true
   },
   "outputs": [
    {
     "name": "stderr",
     "output_type": "stream",
     "text": [
      "Using TensorFlow backend.\n"
     ]
    }
   ],
   "source": [
    "from keras.preprocessing.image import img_to_array\n",
    "from keras.models import Sequential\n",
    "from keras.layers.convolutional import Conv2D\n",
    "from keras.layers.core import Activation, Dense, Flatten\n",
    "from keras import backend\n",
    "from keras.optimizers import SGD\n",
    "from sklearn.metrics import classification_report\n",
    "from sklearn.preprocessing import LabelBinarizer as lbin\n",
    "\n",
    "import numpy as np\n",
    "import matplotlib.pyplot as plt"
   ]
  },
  {
   "cell_type": "markdown",
   "metadata": {},
   "source": [
    "### Make advanced branching with wrapping $img\\_to\\_array$ function into a class"
   ]
  },
  {
   "cell_type": "code",
   "execution_count": 2,
   "metadata": {},
   "outputs": [],
   "source": [
    "class ArrayFromImage:\n",
    "    \n",
    "    def __init__(self, data_format=None):\n",
    "        # data format of the image\n",
    "        self.data_format = data_format\n",
    "    def convert(self, image):\n",
    "        # perform reshaping input image into array \n",
    "        return img_to_array(image, data_format=self.data_format)"
   ]
  },
  {
   "cell_type": "markdown",
   "metadata": {},
   "source": [
    "<center><h2>ShallowNet</h2>\n",
    "<h4>a CNN with one convolutional layer</h4>\n",
    "\n",
    "<h4> $ INPUT =>  CONV  =>  RELU  =>   FC $</h4>\n",
    "</center>\n"
   ]
  },
  {
   "cell_type": "code",
   "execution_count": 2,
   "metadata": {},
   "outputs": [],
   "source": [
    "class ShallowNet:\n",
    "    @staticmethod\n",
    "    def build(w, h, d, classes):\n",
    "        # Initialize the model\n",
    "        model = Sequential()\n",
    "        # Set the shape of input layer\n",
    "        input_layer_shape = (h,w,d)\n",
    "        # Add CONV layer\n",
    "        model.add(Conv2D(32,(3,3), padding=\"same\", input_shape=input_layer_shape))\n",
    "        # Set activation function of the CONV layer\n",
    "        model.add(Activation(\"relu\"))\n",
    "        # Reshape 32, 3, 3 into 32 * 3 * 3\n",
    "        model.add(Flatten())\n",
    "        # Add softmax classifier\n",
    "        model.add(Dense(classes))\n",
    "        model.add(Activation(\"softmax\"))\n",
    "        \n",
    "        return model"
   ]
  },
  {
   "cell_type": "markdown",
   "metadata": {},
   "source": [
    "### 1. Try ShallowNet with MNIST dataset"
   ]
  },
  {
   "cell_type": "code",
   "execution_count": 3,
   "metadata": {},
   "outputs": [],
   "source": [
    "from keras.datasets import mnist"
   ]
  },
  {
   "cell_type": "markdown",
   "metadata": {},
   "source": [
    "Load MNIST dataset"
   ]
  },
  {
   "cell_type": "code",
   "execution_count": 4,
   "metadata": {},
   "outputs": [],
   "source": [
    "(X_train, y_train), (X_test, y_test) = mnist.load_data()"
   ]
  },
  {
   "cell_type": "code",
   "execution_count": 5,
   "metadata": {},
   "outputs": [],
   "source": [
    "X_train = X_train / 255\n",
    "X_test = X_test / 255"
   ]
  },
  {
   "cell_type": "markdown",
   "metadata": {},
   "source": [
    "Hyperparameters and input shapes"
   ]
  },
  {
   "cell_type": "code",
   "execution_count": 6,
   "metadata": {},
   "outputs": [],
   "source": [
    "learning_rate = 0.01\n",
    "optimizer = SGD(learning_rate)\n",
    "batch_size = 32\n",
    "w, h = X_train[0].shape\n",
    "d = 1\n",
    "classes = 10\n",
    "epochs = 100\n",
    "verbose = 1"
   ]
  },
  {
   "cell_type": "code",
   "execution_count": 7,
   "metadata": {},
   "outputs": [],
   "source": [
    "X_train = X_train.reshape(X_train.shape[0], w, h, 1)\n",
    "X_test = X_test.reshape(X_test.shape[0], w, h, 1)"
   ]
  },
  {
   "cell_type": "code",
   "execution_count": 8,
   "metadata": {
    "scrolled": true
   },
   "outputs": [
    {
     "data": {
      "text/plain": [
       "(32, 28, 28)"
      ]
     },
     "execution_count": 8,
     "metadata": {},
     "output_type": "execute_result"
    }
   ],
   "source": [
    "(batch_size, h,w)"
   ]
  },
  {
   "cell_type": "markdown",
   "metadata": {},
   "source": [
    "Convert labels to one-hot encoding"
   ]
  },
  {
   "cell_type": "code",
   "execution_count": 9,
   "metadata": {},
   "outputs": [],
   "source": [
    "y_train = lbin().fit_transform(y_train)\n",
    "y_test = lbin().fit_transform(y_test)"
   ]
  },
  {
   "cell_type": "code",
   "execution_count": 10,
   "metadata": {
    "scrolled": true
   },
   "outputs": [
    {
     "name": "stdout",
     "output_type": "stream",
     "text": [
      "Train on 60000 samples, validate on 10000 samples\n",
      "Epoch 1/100\n",
      "60000/60000 [==============================] - 9s 144us/step - loss: 0.4437 - acc: 0.8796 - val_loss: 0.3137 - val_acc: 0.9112\n",
      "Epoch 2/100\n",
      "60000/60000 [==============================] - 5s 78us/step - loss: 0.3046 - acc: 0.9120 - val_loss: 0.2722 - val_acc: 0.9204\n",
      "Epoch 3/100\n",
      "60000/60000 [==============================] - 5s 79us/step - loss: 0.2819 - acc: 0.9194 - val_loss: 0.2618 - val_acc: 0.9270\n",
      "Epoch 4/100\n",
      "60000/60000 [==============================] - 5s 80us/step - loss: 0.2560 - acc: 0.9275 - val_loss: 0.2279 - val_acc: 0.9358\n",
      "Epoch 5/100\n",
      "60000/60000 [==============================] - 5s 80us/step - loss: 0.2236 - acc: 0.9368 - val_loss: 0.2018 - val_acc: 0.9428\n",
      "Epoch 6/100\n",
      "60000/60000 [==============================] - 5s 81us/step - loss: 0.1891 - acc: 0.9471 - val_loss: 0.1654 - val_acc: 0.9535\n",
      "Epoch 7/100\n",
      "60000/60000 [==============================] - 5s 77us/step - loss: 0.1587 - acc: 0.9561 - val_loss: 0.1391 - val_acc: 0.9632\n",
      "Epoch 8/100\n",
      "60000/60000 [==============================] - 5s 75us/step - loss: 0.1358 - acc: 0.9627 - val_loss: 0.1248 - val_acc: 0.9660\n",
      "Epoch 9/100\n",
      "60000/60000 [==============================] - 4s 72us/step - loss: 0.1185 - acc: 0.9684 - val_loss: 0.1117 - val_acc: 0.9695\n",
      "Epoch 10/100\n",
      "60000/60000 [==============================] - 5s 75us/step - loss: 0.1057 - acc: 0.9718 - val_loss: 0.1011 - val_acc: 0.9708\n",
      "Epoch 11/100\n",
      "60000/60000 [==============================] - 5s 80us/step - loss: 0.0962 - acc: 0.9742 - val_loss: 0.0916 - val_acc: 0.9744\n",
      "Epoch 12/100\n",
      "60000/60000 [==============================] - 5s 87us/step - loss: 0.0882 - acc: 0.9765 - val_loss: 0.0863 - val_acc: 0.9748\n",
      "Epoch 13/100\n",
      "60000/60000 [==============================] - 5s 76us/step - loss: 0.0822 - acc: 0.9780 - val_loss: 0.0845 - val_acc: 0.9739\n",
      "Epoch 14/100\n",
      "60000/60000 [==============================] - 5s 75us/step - loss: 0.0768 - acc: 0.9791 - val_loss: 0.0793 - val_acc: 0.9757\n",
      "Epoch 15/100\n",
      "60000/60000 [==============================] - 5s 76us/step - loss: 0.0725 - acc: 0.9804 - val_loss: 0.0757 - val_acc: 0.9765\n",
      "Epoch 16/100\n",
      "60000/60000 [==============================] - 4s 73us/step - loss: 0.0685 - acc: 0.9816 - val_loss: 0.0722 - val_acc: 0.9777\n",
      "Epoch 17/100\n",
      "60000/60000 [==============================] - 5s 76us/step - loss: 0.0650 - acc: 0.9823 - val_loss: 0.0698 - val_acc: 0.9789\n",
      "Epoch 18/100\n",
      "60000/60000 [==============================] - 4s 72us/step - loss: 0.0619 - acc: 0.9831 - val_loss: 0.0685 - val_acc: 0.9788\n",
      "Epoch 19/100\n",
      "60000/60000 [==============================] - 5s 76us/step - loss: 0.0591 - acc: 0.9839 - val_loss: 0.0684 - val_acc: 0.9788\n",
      "Epoch 20/100\n",
      "60000/60000 [==============================] - 4s 72us/step - loss: 0.0566 - acc: 0.9847 - val_loss: 0.0669 - val_acc: 0.9782\n",
      "Epoch 21/100\n",
      "60000/60000 [==============================] - 4s 73us/step - loss: 0.0546 - acc: 0.9851 - val_loss: 0.0653 - val_acc: 0.9794\n",
      "Epoch 22/100\n",
      "60000/60000 [==============================] - 4s 75us/step - loss: 0.0522 - acc: 0.9856 - val_loss: 0.0685 - val_acc: 0.9789\n",
      "Epoch 23/100\n",
      "60000/60000 [==============================] - 5s 80us/step - loss: 0.0505 - acc: 0.9864 - val_loss: 0.0645 - val_acc: 0.9793\n",
      "Epoch 24/100\n",
      "60000/60000 [==============================] - 4s 74us/step - loss: 0.0486 - acc: 0.9867 - val_loss: 0.0642 - val_acc: 0.9797\n",
      "Epoch 25/100\n",
      "60000/60000 [==============================] - 4s 74us/step - loss: 0.0470 - acc: 0.9870 - val_loss: 0.0623 - val_acc: 0.9800\n",
      "Epoch 26/100\n",
      "60000/60000 [==============================] - 4s 73us/step - loss: 0.0457 - acc: 0.9875 - val_loss: 0.0618 - val_acc: 0.9806\n",
      "Epoch 27/100\n",
      "60000/60000 [==============================] - 4s 73us/step - loss: 0.0443 - acc: 0.9880 - val_loss: 0.0625 - val_acc: 0.9803\n",
      "Epoch 28/100\n",
      "60000/60000 [==============================] - 5s 78us/step - loss: 0.0429 - acc: 0.9884 - val_loss: 0.0614 - val_acc: 0.9798\n",
      "Epoch 29/100\n",
      "60000/60000 [==============================] - 5s 87us/step - loss: 0.0416 - acc: 0.9888 - val_loss: 0.0612 - val_acc: 0.9797\n",
      "Epoch 30/100\n",
      "60000/60000 [==============================] - 4s 73us/step - loss: 0.0403 - acc: 0.9892 - val_loss: 0.0616 - val_acc: 0.9797\n",
      "Epoch 31/100\n",
      "60000/60000 [==============================] - 4s 74us/step - loss: 0.0393 - acc: 0.9897 - val_loss: 0.0598 - val_acc: 0.9806\n",
      "Epoch 32/100\n",
      "60000/60000 [==============================] - 4s 73us/step - loss: 0.0382 - acc: 0.9897 - val_loss: 0.0606 - val_acc: 0.9805\n",
      "Epoch 33/100\n",
      "60000/60000 [==============================] - 5s 85us/step - loss: 0.0370 - acc: 0.9899 - val_loss: 0.0604 - val_acc: 0.9796\n",
      "Epoch 34/100\n",
      "60000/60000 [==============================] - 5s 76us/step - loss: 0.0361 - acc: 0.9904 - val_loss: 0.0581 - val_acc: 0.9803\n",
      "Epoch 35/100\n",
      "60000/60000 [==============================] - 4s 72us/step - loss: 0.0353 - acc: 0.9906 - val_loss: 0.0608 - val_acc: 0.9786\n",
      "Epoch 36/100\n",
      "60000/60000 [==============================] - 4s 71us/step - loss: 0.0341 - acc: 0.9908 - val_loss: 0.0590 - val_acc: 0.9802\n",
      "Epoch 37/100\n",
      "60000/60000 [==============================] - 4s 72us/step - loss: 0.0337 - acc: 0.9910 - val_loss: 0.0587 - val_acc: 0.9812\n",
      "Epoch 38/100\n",
      "60000/60000 [==============================] - 4s 72us/step - loss: 0.0327 - acc: 0.9914 - val_loss: 0.0586 - val_acc: 0.9805\n",
      "Epoch 39/100\n",
      "60000/60000 [==============================] - 4s 73us/step - loss: 0.0318 - acc: 0.9914 - val_loss: 0.0595 - val_acc: 0.9808\n",
      "Epoch 40/100\n",
      "60000/60000 [==============================] - 4s 72us/step - loss: 0.0309 - acc: 0.9919 - val_loss: 0.0592 - val_acc: 0.9804\n",
      "Epoch 41/100\n",
      "60000/60000 [==============================] - 4s 75us/step - loss: 0.0304 - acc: 0.9920 - val_loss: 0.0602 - val_acc: 0.9794\n",
      "Epoch 42/100\n",
      "60000/60000 [==============================] - 4s 75us/step - loss: 0.0296 - acc: 0.9922 - val_loss: 0.0601 - val_acc: 0.9801\n",
      "Epoch 43/100\n",
      "60000/60000 [==============================] - 4s 73us/step - loss: 0.0289 - acc: 0.9926 - val_loss: 0.0610 - val_acc: 0.9797\n",
      "Epoch 44/100\n",
      "60000/60000 [==============================] - 4s 72us/step - loss: 0.0282 - acc: 0.9928 - val_loss: 0.0609 - val_acc: 0.9810\n",
      "Epoch 45/100\n",
      "60000/60000 [==============================] - 4s 73us/step - loss: 0.0275 - acc: 0.9929 - val_loss: 0.0606 - val_acc: 0.9797\n",
      "Epoch 46/100\n",
      "60000/60000 [==============================] - 4s 72us/step - loss: 0.0269 - acc: 0.9932 - val_loss: 0.0592 - val_acc: 0.9805\n",
      "Epoch 47/100\n",
      "60000/60000 [==============================] - 4s 72us/step - loss: 0.0264 - acc: 0.9934 - val_loss: 0.0610 - val_acc: 0.9808\n",
      "Epoch 48/100\n",
      "60000/60000 [==============================] - 4s 72us/step - loss: 0.0259 - acc: 0.9935 - val_loss: 0.0604 - val_acc: 0.9807\n",
      "Epoch 49/100\n",
      "60000/60000 [==============================] - 4s 72us/step - loss: 0.0254 - acc: 0.9938 - val_loss: 0.0598 - val_acc: 0.9809\n",
      "Epoch 50/100\n",
      "60000/60000 [==============================] - 4s 71us/step - loss: 0.0248 - acc: 0.9938 - val_loss: 0.0589 - val_acc: 0.9812\n",
      "Epoch 51/100\n",
      "60000/60000 [==============================] - 4s 72us/step - loss: 0.0242 - acc: 0.9938 - val_loss: 0.0599 - val_acc: 0.9807\n",
      "Epoch 52/100\n",
      "60000/60000 [==============================] - 4s 72us/step - loss: 0.0236 - acc: 0.9942 - val_loss: 0.0589 - val_acc: 0.9804\n",
      "Epoch 53/100\n",
      "60000/60000 [==============================] - 4s 71us/step - loss: 0.0232 - acc: 0.9942 - val_loss: 0.0597 - val_acc: 0.9806\n",
      "Epoch 54/100\n",
      "60000/60000 [==============================] - 4s 71us/step - loss: 0.0225 - acc: 0.9943 - val_loss: 0.0619 - val_acc: 0.9801\n",
      "Epoch 55/100\n",
      "60000/60000 [==============================] - 4s 71us/step - loss: 0.0222 - acc: 0.9948 - val_loss: 0.0605 - val_acc: 0.9815\n",
      "Epoch 56/100\n",
      "60000/60000 [==============================] - 4s 71us/step - loss: 0.0218 - acc: 0.9946 - val_loss: 0.0601 - val_acc: 0.9811\n",
      "Epoch 57/100\n",
      "60000/60000 [==============================] - 4s 71us/step - loss: 0.0214 - acc: 0.9949 - val_loss: 0.0627 - val_acc: 0.9801\n",
      "Epoch 58/100\n",
      "60000/60000 [==============================] - 4s 71us/step - loss: 0.0208 - acc: 0.9952 - val_loss: 0.0609 - val_acc: 0.9801\n",
      "Epoch 59/100\n",
      "60000/60000 [==============================] - 4s 71us/step - loss: 0.0205 - acc: 0.9954 - val_loss: 0.0613 - val_acc: 0.9815\n",
      "Epoch 60/100\n",
      "60000/60000 [==============================] - 4s 71us/step - loss: 0.0201 - acc: 0.9954 - val_loss: 0.0626 - val_acc: 0.9812\n",
      "Epoch 61/100\n",
      "60000/60000 [==============================] - 4s 71us/step - loss: 0.0196 - acc: 0.9955 - val_loss: 0.0626 - val_acc: 0.9812\n",
      "Epoch 62/100\n",
      "60000/60000 [==============================] - 4s 71us/step - loss: 0.0193 - acc: 0.9955 - val_loss: 0.0623 - val_acc: 0.9809\n",
      "Epoch 63/100\n",
      "60000/60000 [==============================] - 4s 71us/step - loss: 0.0189 - acc: 0.9959 - val_loss: 0.0615 - val_acc: 0.9804\n",
      "Epoch 64/100\n",
      "60000/60000 [==============================] - 4s 71us/step - loss: 0.0185 - acc: 0.9958 - val_loss: 0.0620 - val_acc: 0.9805\n",
      "Epoch 65/100\n",
      "60000/60000 [==============================] - 4s 71us/step - loss: 0.0182 - acc: 0.9962 - val_loss: 0.0626 - val_acc: 0.9811\n",
      "Epoch 66/100\n",
      "60000/60000 [==============================] - 4s 71us/step - loss: 0.0178 - acc: 0.9961 - val_loss: 0.0623 - val_acc: 0.9805\n",
      "Epoch 67/100\n",
      "60000/60000 [==============================] - 4s 72us/step - loss: 0.0175 - acc: 0.9962 - val_loss: 0.0626 - val_acc: 0.9812\n",
      "Epoch 68/100\n",
      "60000/60000 [==============================] - 4s 71us/step - loss: 0.0170 - acc: 0.9966 - val_loss: 0.0638 - val_acc: 0.9806\n",
      "Epoch 69/100\n",
      "60000/60000 [==============================] - 4s 71us/step - loss: 0.0167 - acc: 0.9968 - val_loss: 0.0624 - val_acc: 0.9814\n",
      "Epoch 70/100\n",
      "60000/60000 [==============================] - 4s 71us/step - loss: 0.0166 - acc: 0.9964 - val_loss: 0.0625 - val_acc: 0.9818\n",
      "Epoch 71/100\n",
      "60000/60000 [==============================] - 4s 71us/step - loss: 0.0160 - acc: 0.9967 - val_loss: 0.0644 - val_acc: 0.9810\n",
      "Epoch 72/100\n",
      "60000/60000 [==============================] - 4s 71us/step - loss: 0.0159 - acc: 0.9970 - val_loss: 0.0627 - val_acc: 0.9814\n",
      "Epoch 73/100\n",
      "60000/60000 [==============================] - 4s 71us/step - loss: 0.0157 - acc: 0.9970 - val_loss: 0.0626 - val_acc: 0.9815\n",
      "Epoch 74/100\n",
      "60000/60000 [==============================] - 4s 71us/step - loss: 0.0153 - acc: 0.9969 - val_loss: 0.0626 - val_acc: 0.9815\n",
      "Epoch 75/100\n",
      "60000/60000 [==============================] - 4s 72us/step - loss: 0.0149 - acc: 0.9971 - val_loss: 0.0664 - val_acc: 0.9814\n",
      "Epoch 76/100\n",
      "60000/60000 [==============================] - 5s 77us/step - loss: 0.0147 - acc: 0.9973 - val_loss: 0.0640 - val_acc: 0.9808\n",
      "Epoch 77/100\n",
      "60000/60000 [==============================] - 5s 76us/step - loss: 0.0145 - acc: 0.9972 - val_loss: 0.0646 - val_acc: 0.9806\n",
      "Epoch 78/100\n",
      "60000/60000 [==============================] - 5s 80us/step - loss: 0.0143 - acc: 0.9973 - val_loss: 0.0632 - val_acc: 0.9813\n",
      "Epoch 79/100\n",
      "60000/60000 [==============================] - 5s 79us/step - loss: 0.0140 - acc: 0.9974 - val_loss: 0.0630 - val_acc: 0.9816\n",
      "Epoch 80/100\n",
      "60000/60000 [==============================] - 4s 74us/step - loss: 0.0137 - acc: 0.9974 - val_loss: 0.0643 - val_acc: 0.9816\n",
      "Epoch 81/100\n",
      "60000/60000 [==============================] - 5s 76us/step - loss: 0.0136 - acc: 0.9976 - val_loss: 0.0640 - val_acc: 0.9812\n",
      "Epoch 82/100\n",
      "60000/60000 [==============================] - 5s 83us/step - loss: 0.0132 - acc: 0.9979 - val_loss: 0.0653 - val_acc: 0.9811\n",
      "Epoch 83/100\n",
      "60000/60000 [==============================] - 5s 76us/step - loss: 0.0131 - acc: 0.9976 - val_loss: 0.0639 - val_acc: 0.9811\n",
      "Epoch 84/100\n",
      "60000/60000 [==============================] - 5s 76us/step - loss: 0.0128 - acc: 0.9981 - val_loss: 0.0700 - val_acc: 0.9792\n",
      "Epoch 85/100\n",
      "60000/60000 [==============================] - 5s 77us/step - loss: 0.0126 - acc: 0.9979 - val_loss: 0.0664 - val_acc: 0.9815\n",
      "Epoch 86/100\n",
      "60000/60000 [==============================] - 5s 78us/step - loss: 0.0125 - acc: 0.9977 - val_loss: 0.0644 - val_acc: 0.9817\n",
      "Epoch 87/100\n",
      "60000/60000 [==============================] - 5s 85us/step - loss: 0.0121 - acc: 0.9980 - val_loss: 0.0663 - val_acc: 0.9810\n",
      "Epoch 88/100\n",
      "60000/60000 [==============================] - 5s 75us/step - loss: 0.0120 - acc: 0.9980 - val_loss: 0.0668 - val_acc: 0.9811\n",
      "Epoch 89/100\n",
      "60000/60000 [==============================] - 4s 74us/step - loss: 0.0118 - acc: 0.9984 - val_loss: 0.0675 - val_acc: 0.9808\n",
      "Epoch 90/100\n",
      "60000/60000 [==============================] - 4s 73us/step - loss: 0.0116 - acc: 0.9982 - val_loss: 0.0659 - val_acc: 0.9810\n",
      "Epoch 91/100\n",
      "60000/60000 [==============================] - 6s 94us/step - loss: 0.0113 - acc: 0.9984 - val_loss: 0.0660 - val_acc: 0.9819\n",
      "Epoch 92/100\n",
      "60000/60000 [==============================] - 5s 80us/step - loss: 0.0112 - acc: 0.9984 - val_loss: 0.0661 - val_acc: 0.9810\n",
      "Epoch 93/100\n",
      "60000/60000 [==============================] - 5s 91us/step - loss: 0.0110 - acc: 0.9984 - val_loss: 0.0673 - val_acc: 0.9814\n",
      "Epoch 94/100\n",
      "60000/60000 [==============================] - 5s 78us/step - loss: 0.0109 - acc: 0.9984 - val_loss: 0.0681 - val_acc: 0.9812\n",
      "Epoch 95/100\n",
      "60000/60000 [==============================] - 5s 77us/step - loss: 0.0107 - acc: 0.9985 - val_loss: 0.0662 - val_acc: 0.9811\n",
      "Epoch 96/100\n",
      "60000/60000 [==============================] - 4s 73us/step - loss: 0.0104 - acc: 0.9985 - val_loss: 0.0671 - val_acc: 0.9815\n",
      "Epoch 97/100\n",
      "60000/60000 [==============================] - 4s 73us/step - loss: 0.0103 - acc: 0.9985 - val_loss: 0.0693 - val_acc: 0.9805\n",
      "Epoch 98/100\n",
      "60000/60000 [==============================] - 4s 73us/step - loss: 0.0102 - acc: 0.9987 - val_loss: 0.0680 - val_acc: 0.9815\n",
      "Epoch 99/100\n",
      "60000/60000 [==============================] - 4s 72us/step - loss: 0.0100 - acc: 0.9986 - val_loss: 0.0674 - val_acc: 0.9807\n",
      "Epoch 100/100\n",
      "60000/60000 [==============================] - 4s 72us/step - loss: 0.0099 - acc: 0.9987 - val_loss: 0.0686 - val_acc: 0.9805\n"
     ]
    }
   ],
   "source": [
    "model = ShallowNet.build(w,h,d, classes)\n",
    "\n",
    "model.compile(loss='categorical_crossentropy', optimizer=optimizer, metrics=[\"accuracy\"])\n",
    "\n",
    "tr = model.fit(X_train, y_train, validation_data = (X_test, y_test), batch_size=batch_size, epochs=epochs, verbose = verbose)"
   ]
  },
  {
   "cell_type": "code",
   "execution_count": 20,
   "metadata": {},
   "outputs": [
    {
     "data": {
      "image/png": "[encoded data removed]",
      "text/plain": [
       "<Figure size 1080x432 with 1 Axes>"
      ]
     },
     "metadata": {
      "needs_background": "light"
     },
     "output_type": "display_data"
    }
   ],
   "source": [
    "plt.figure(figsize=(15,6))\n",
    "plt.plot(np.arange(0,epochs), tr.history[\"acc\"])\n",
    "plt.plot(np.arange(0,epochs), tr.history[\"val_acc\"])\n",
    "plt.legend(('Accuracy', \"Test Acc\"))\n",
    "plt.grid()\n",
    "plt.show()\n"
   ]
  },
  {
   "cell_type": "code",
   "execution_count": 19,
   "metadata": {},
   "outputs": [
    {
     "data": {
      "image/png": "[encoded data removed]",
      "text/plain": [
       "<Figure size 1080x432 with 1 Axes>"
      ]
     },
     "metadata": {
      "needs_background": "light"
     },
     "output_type": "display_data"
    }
   ],
   "source": [
    "plt.figure(figsize=(15,6))\n",
    "plt.plot(np.arange(0,epochs), tr.history[\"loss\"])\n",
    "plt.plot(np.arange(0,epochs), tr.history[\"val_loss\"])\n",
    "plt.legend(('Losses', \"Test Losses\"))\n",
    "plt.grid()\n",
    "plt.show()"
   ]
  },
  {
   "cell_type": "markdown",
   "metadata": {},
   "source": [
    "[Loss, Accuracy]"
   ]
  },
  {
   "cell_type": "code",
   "execution_count": 13,
   "metadata": {
    "scrolled": true
   },
   "outputs": [
    {
     "name": "stdout",
     "output_type": "stream",
     "text": [
      "10000/10000 [==============================] - 0s 31us/step\n"
     ]
    },
    {
     "data": {
      "text/plain": [
       "[0.06856656034073676, 0.9805]"
      ]
     },
     "execution_count": 13,
     "metadata": {},
     "output_type": "execute_result"
    }
   ],
   "source": [
    "model.evaluate(X_test, y_test, verbose=1)\n"
   ]
  },
  {
   "cell_type": "markdown",
   "metadata": {},
   "source": [
    "# 2. ShallowNet with CIFAR-10"
   ]
  },
  {
   "cell_type": "code",
   "execution_count": null,
   "metadata": {},
   "outputs": [],
   "source": []
  }
 ],
 "metadata": {
  "kernelspec": {
   "display_name": "tf",
   "language": "python",
   "name": "tf"
  },
  "language_info": {
   "codemirror_mode": {
    "name": "ipython",
    "version": 3
   },
   "file_extension": ".py",
   "mimetype": "text/x-python",
   "name": "python",
   "nbconvert_exporter": "python",
   "pygments_lexer": "ipython3",
   "version": "3.6.6"
  }
 },
 "nbformat": 4,
 "nbformat_minor": 2
}
