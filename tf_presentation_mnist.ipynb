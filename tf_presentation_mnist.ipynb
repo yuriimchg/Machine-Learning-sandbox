{
 "cells": [
  {
   "cell_type": "markdown",
   "metadata": {},
   "source": [
    "### Imports"
   ]
  },
  {
   "cell_type": "code",
   "execution_count": 1,
   "metadata": {
    "scrolled": true
   },
   "outputs": [],
   "source": [
    "import tensorflow as tf\n",
    "import matplotlib.pyplot as plt\n",
    "from tensorflow.examples.tutorials.mnist import input_data\n",
    "import numpy as np"
   ]
  },
  {
   "cell_type": "code",
   "execution_count": 2,
   "metadata": {},
   "outputs": [],
   "source": [
    "%matplotlib inline"
   ]
  },
  {
   "cell_type": "markdown",
   "metadata": {},
   "source": [
    "### Load data"
   ]
  },
  {
   "cell_type": "code",
   "execution_count": 3,
   "metadata": {
    "scrolled": true
   },
   "outputs": [
    {
     "name": "stdout",
     "output_type": "stream",
     "text": [
      "WARNING:tensorflow:From <ipython-input-3-d651cc53d7d8>:1: read_data_sets (from tensorflow.contrib.learn.python.learn.datasets.mnist) is deprecated and will be removed in a future version.\n",
      "Instructions for updating:\n",
      "Please use alternatives such as official/mnist/dataset.py from tensorflow/models.\n",
      "WARNING:tensorflow:From /home/yurii/.local/lib/python3.6/site-packages/tensorflow/contrib/learn/python/learn/datasets/mnist.py:260: maybe_download (from tensorflow.contrib.learn.python.learn.datasets.base) is deprecated and will be removed in a future version.\n",
      "Instructions for updating:\n",
      "Please write your own downloading logic.\n",
      "WARNING:tensorflow:From /home/yurii/.local/lib/python3.6/site-packages/tensorflow/contrib/learn/python/learn/datasets/mnist.py:262: extract_images (from tensorflow.contrib.learn.python.learn.datasets.mnist) is deprecated and will be removed in a future version.\n",
      "Instructions for updating:\n",
      "Please use tf.data to implement this functionality.\n",
      "Extracting /tmp/data/train-images-idx3-ubyte.gz\n",
      "WARNING:tensorflow:From /home/yurii/.local/lib/python3.6/site-packages/tensorflow/contrib/learn/python/learn/datasets/mnist.py:267: extract_labels (from tensorflow.contrib.learn.python.learn.datasets.mnist) is deprecated and will be removed in a future version.\n",
      "Instructions for updating:\n",
      "Please use tf.data to implement this functionality.\n",
      "Extracting /tmp/data/train-labels-idx1-ubyte.gz\n",
      "WARNING:tensorflow:From /home/yurii/.local/lib/python3.6/site-packages/tensorflow/contrib/learn/python/learn/datasets/mnist.py:110: dense_to_one_hot (from tensorflow.contrib.learn.python.learn.datasets.mnist) is deprecated and will be removed in a future version.\n",
      "Instructions for updating:\n",
      "Please use tf.one_hot on tensors.\n",
      "Extracting /tmp/data/t10k-images-idx3-ubyte.gz\n",
      "Extracting /tmp/data/t10k-labels-idx1-ubyte.gz\n",
      "WARNING:tensorflow:From /home/yurii/.local/lib/python3.6/site-packages/tensorflow/contrib/learn/python/learn/datasets/mnist.py:290: DataSet.__init__ (from tensorflow.contrib.learn.python.learn.datasets.mnist) is deprecated and will be removed in a future version.\n",
      "Instructions for updating:\n",
      "Please use alternatives such as official/mnist/dataset.py from tensorflow/models.\n"
     ]
    }
   ],
   "source": [
    "mnist = input_data.read_data_sets(\"/tmp/data/\", one_hot=True)"
   ]
  },
  {
   "cell_type": "markdown",
   "metadata": {},
   "source": [
    "### Pick some hyperparameters"
   ]
  },
  {
   "cell_type": "code",
   "execution_count": 4,
   "metadata": {},
   "outputs": [],
   "source": [
    "learning_rate = 0.001\n",
    "num_steps = 500\n",
    "batch_size = 128\n",
    "display_step = 10"
   ]
  },
  {
   "cell_type": "markdown",
   "metadata": {},
   "source": [
    "### Pick the size of input features, number of output classes and dropout rate"
   ]
  },
  {
   "cell_type": "code",
   "execution_count": 5,
   "metadata": {},
   "outputs": [],
   "source": [
    "num_input = 28 * 28 \n",
    "num_classes = 10 \n",
    "dropout_rate = 0.9"
   ]
  },
  {
   "cell_type": "markdown",
   "metadata": {},
   "source": [
    "### Initialize input for tf.Graph()"
   ]
  },
  {
   "cell_type": "code",
   "execution_count": 6,
   "metadata": {},
   "outputs": [],
   "source": [
    "X = tf.placeholder(tf.float32, [None, num_input])\n",
    "Y = tf.placeholder(tf.float32, [None, num_classes])\n",
    "keep_prob = tf.placeholder(tf.float32) "
   ]
  },
  {
   "cell_type": "markdown",
   "metadata": {},
   "source": [
    "### Create sample convolutional & max-pool layers "
   ]
  },
  {
   "cell_type": "code",
   "execution_count": 7,
   "metadata": {},
   "outputs": [],
   "source": [
    "def conv2d(x, W, b, strides=1):\n",
    "    x = tf.nn.conv2d(x, W, strides=[1, strides, strides, 1], padding='SAME')\n",
    "    x = tf.nn.bias_add(x, b)\n",
    "    return tf.nn.relu(x)\n",
    "\n",
    "\n",
    "def maxpool2d(x, k=2):\n",
    "    return tf.nn.max_pool(x, ksize=[1, k, k, 1], strides=[1, k, k, 1], padding='SAME')"
   ]
  },
  {
   "cell_type": "markdown",
   "metadata": {},
   "source": [
    "### Create a net with two convolutional layers and one fully connected layer"
   ]
  },
  {
   "cell_type": "code",
   "execution_count": 8,
   "metadata": {},
   "outputs": [],
   "source": [
    "def conv_net(x):\n",
    "\n",
    "    x = tf.reshape(x, shape=[-1, 28, 28, 1])\n",
    "\n",
    "    conv1 = conv2d(x, weights['wc1'], biases['bc1'])\n",
    "    conv1 = maxpool2d(conv1, k=2)\n",
    "\n",
    "    conv2 = conv2d(conv1, weights['wc2'], biases['bc2'])\n",
    "    conv2 = maxpool2d(conv2, k=2)\n",
    "\n",
    "    # Fully connected layer\n",
    "    # Reshape conv2 output to fit fully connected layer input\n",
    "    fcl = tf.reshape(conv2, [-1, weights['wd1'].get_shape().as_list()[0]])\n",
    "    fcl = tf.add(tf.matmul(fcl, weights['wd1']), biases['bd1'])\n",
    "    fcl = tf.nn.relu(fcl)\n",
    "    \n",
    "    # Dropout\n",
    "    fcl = tf.nn.dropout(fcl, dropout_rate)\n",
    "\n",
    "    # Output, class prediction\n",
    "    out = tf.add(tf.matmul(fcl, weights['out']), biases['out'])\n",
    "    return out"
   ]
  },
  {
   "cell_type": "markdown",
   "metadata": {},
   "source": [
    "### Initialize weights and biases"
   ]
  },
  {
   "cell_type": "code",
   "execution_count": 9,
   "metadata": {
    "scrolled": true
   },
   "outputs": [],
   "source": [
    "weights = {\n",
    "    # 5x5 convolutional layer, 1 input, 32 outputs\n",
    "    'wc1': tf.Variable(tf.random_normal([5, 5, 1, 32])),\n",
    "    # 5x5 convolutional layer, 32 inputs, 64 outputs\n",
    "    'wc2': tf.Variable(tf.random_normal([5, 5, 32, 64])),\n",
    "    # fully connected layer, 7*7*64 inputs, 1024 outputs\n",
    "    'wd1': tf.Variable(tf.random_normal([7*7*64, 1024])),\n",
    "    # 1024 inputs, 10 outputs (class prediction)\n",
    "    'out': tf.Variable(tf.random_normal([1024, num_classes]))}\n",
    "\n",
    "biases = {\n",
    "    'bc1': tf.Variable(tf.random_normal([32])),\n",
    "    'bc2': tf.Variable(tf.random_normal([64])),\n",
    "    'bd1': tf.Variable(tf.random_normal([1024])),\n",
    "    'out': tf.Variable(tf.random_normal([num_classes]))}"
   ]
  },
  {
   "cell_type": "markdown",
   "metadata": {},
   "source": [
    "### Initialize model saver"
   ]
  },
  {
   "cell_type": "code",
   "execution_count": 10,
   "metadata": {},
   "outputs": [],
   "source": [
    "saver = tf.train.Saver()"
   ]
  },
  {
   "cell_type": "markdown",
   "metadata": {},
   "source": [
    "### Training "
   ]
  },
  {
   "cell_type": "code",
   "execution_count": 11,
   "metadata": {},
   "outputs": [
    {
     "name": "stdout",
     "output_type": "stream",
     "text": [
      "WARNING:tensorflow:From <ipython-input-11-f5c2590e28c9>:6: softmax_cross_entropy_with_logits (from tensorflow.python.ops.nn_ops) is deprecated and will be removed in a future version.\n",
      "Instructions for updating:\n",
      "\n",
      "Future major versions of TensorFlow will allow gradients to flow\n",
      "into the labels input on backprop by default.\n",
      "\n",
      "See `tf.nn.softmax_cross_entropy_with_logits_v2`.\n",
      "\n",
      "Step: 1,  Losses: 87661.6484, Train accuracy: 6.250%\n",
      "Step: 10,  Losses: 34683.2188, Train accuracy: 17.969%\n",
      "Step: 20,  Losses: 18888.7402, Train accuracy: 33.594%\n",
      "Step: 30,  Losses: 11993.9326, Train accuracy: 53.125%\n",
      "Step: 40,  Losses: 11223.9707, Train accuracy: 50.781%\n",
      "Step: 50,  Losses: 7625.2271, Train accuracy: 67.188%\n",
      "Step: 60,  Losses: 7939.4194, Train accuracy: 68.750%\n",
      "Step: 70,  Losses: 4660.4380, Train accuracy: 75.000%\n",
      "Step: 80,  Losses: 5499.3398, Train accuracy: 75.781%\n",
      "Step: 90,  Losses: 5073.2095, Train accuracy: 78.125%\n",
      "Step: 100,  Losses: 4498.8184, Train accuracy: 78.125%\n",
      "Step: 110,  Losses: 5365.1035, Train accuracy: 75.781%\n",
      "Step: 120,  Losses: 4173.8115, Train accuracy: 75.000%\n",
      "Step: 130,  Losses: 2407.5586, Train accuracy: 85.156%\n",
      "Step: 140,  Losses: 2757.9536, Train accuracy: 84.375%\n",
      "Step: 150,  Losses: 2611.5542, Train accuracy: 80.469%\n",
      "Step: 160,  Losses: 3024.0669, Train accuracy: 84.375%\n",
      "Step: 170,  Losses: 2574.5632, Train accuracy: 82.812%\n",
      "Step: 180,  Losses: 3176.1382, Train accuracy: 82.812%\n",
      "Step: 190,  Losses: 2958.4270, Train accuracy: 83.594%\n",
      "Step: 200,  Losses: 1835.8608, Train accuracy: 86.719%\n",
      "Step: 210,  Losses: 1985.6112, Train accuracy: 88.281%\n",
      "Step: 220,  Losses: 2219.8330, Train accuracy: 89.844%\n",
      "Step: 230,  Losses: 1807.9672, Train accuracy: 90.625%\n",
      "Step: 240,  Losses: 2171.7329, Train accuracy: 89.062%\n",
      "Step: 250,  Losses: 2322.3416, Train accuracy: 82.812%\n",
      "Step: 260,  Losses: 3540.2891, Train accuracy: 86.719%\n",
      "Step: 270,  Losses: 2468.7305, Train accuracy: 86.719%\n",
      "Step: 280,  Losses: 2442.6272, Train accuracy: 85.156%\n",
      "Step: 290,  Losses: 988.4816, Train accuracy: 91.406%\n",
      "Step: 300,  Losses: 3683.9763, Train accuracy: 81.250%\n",
      "Step: 310,  Losses: 698.5112, Train accuracy: 92.188%\n",
      "Step: 320,  Losses: 1611.4225, Train accuracy: 87.500%\n",
      "Step: 330,  Losses: 1137.7302, Train accuracy: 90.625%\n",
      "Step: 340,  Losses: 1764.4552, Train accuracy: 85.938%\n",
      "Step: 350,  Losses: 2448.1895, Train accuracy: 84.375%\n",
      "Step: 360,  Losses: 1336.3201, Train accuracy: 91.406%\n",
      "Step: 370,  Losses: 988.6097, Train accuracy: 92.969%\n",
      "Step: 380,  Losses: 697.5118, Train accuracy: 92.188%\n",
      "Step: 390,  Losses: 1644.3044, Train accuracy: 89.844%\n",
      "Step: 400,  Losses: 1600.4700, Train accuracy: 86.719%\n",
      "Step: 410,  Losses: 828.0785, Train accuracy: 95.312%\n",
      "Step: 420,  Losses: 1798.6045, Train accuracy: 89.062%\n",
      "Step: 430,  Losses: 1013.7295, Train accuracy: 90.625%\n",
      "Step: 440,  Losses: 1240.6782, Train accuracy: 89.062%\n",
      "Step: 450,  Losses: 857.6187, Train accuracy: 94.531%\n",
      "Step: 460,  Losses: 1504.0577, Train accuracy: 90.625%\n",
      "Step: 470,  Losses: 1576.2827, Train accuracy: 92.188%\n",
      "Step: 480,  Losses: 1129.6349, Train accuracy: 94.531%\n",
      "Step: 490,  Losses: 731.3193, Train accuracy: 92.969%\n",
      "Step: 500,  Losses: 1549.1636, Train accuracy: 89.062%\n",
      "\n",
      "\n",
      "Testing Accuracy: 94.14%\n"
     ]
    }
   ],
   "source": [
    "with tf.Session() as sess:\n",
    "    \n",
    "    logits = conv_net(X)\n",
    "    prediction = tf.nn.softmax(logits)\n",
    "    \n",
    "    loss_op = tf.reduce_mean(tf.nn.softmax_cross_entropy_with_logits(logits=logits, labels=Y))\n",
    "    optimizer = tf.train.AdamOptimizer(learning_rate=learning_rate)\n",
    "    train_op = optimizer.minimize(loss_op)\n",
    "    \n",
    "    correct_pred = tf.equal(tf.argmax(prediction, 1), tf.argmax(Y, 1))\n",
    "    accuracy = tf.reduce_mean(tf.cast(correct_pred, tf.float32))\n",
    "    \n",
    "    sess.run(tf.global_variables_initializer())\n",
    "\n",
    "    for step in range(1, num_steps+1):\n",
    "        # Forward step\n",
    "        batch_x, batch_y = mnist.train.next_batch(batch_size)\n",
    "        # Backpropagation step\n",
    "        sess.run(train_op, feed_dict={X: batch_x, Y: batch_y, keep_prob: 1.0})\n",
    "\n",
    "        if step % display_step == 0 or step == 1:\n",
    "            loss, acc = sess.run([loss_op, accuracy], feed_dict={X: batch_x, Y: batch_y,keep_prob: 1.0})\n",
    "            print(f'Step: {step},  Losses: {loss:.4f}, Train accuracy: {100 * acc:.3f}%')\n",
    "\n",
    "    # Count accuracy on the training dataset\n",
    "    test_acc = sess.run(accuracy, feed_dict={X: mnist.test.images[:256], Y: mnist.test.labels[:256], keep_prob: 1.0})\n",
    "    saver.save(sess, 'pred/model.ckpt')\n",
    "\n",
    "    print(f'\\n\\nTesting Accuracy: {100 * test_acc:.2f}%')\n"
   ]
  },
  {
   "cell_type": "code",
   "execution_count": null,
   "metadata": {},
   "outputs": [],
   "source": []
  }
 ],
 "metadata": {
  "kernelspec": {
   "display_name": "Python 3",
   "language": "python",
   "name": "python3"
  },
  "language_info": {
   "codemirror_mode": {
    "name": "ipython",
    "version": 3
   },
   "file_extension": ".py",
   "mimetype": "text/x-python",
   "name": "python",
   "nbconvert_exporter": "python",
   "pygments_lexer": "ipython3",
   "version": "3.6.5"
  }
 },
 "nbformat": 4,
 "nbformat_minor": 2
}
