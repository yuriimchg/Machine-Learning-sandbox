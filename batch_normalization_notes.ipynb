{
 "cells": [
  {
   "cell_type": "markdown",
   "metadata": {},
   "source": [
    "## Batch Normalization layers"
   ]
  },
  {
   "cell_type": "markdown",
   "metadata": {},
   "source": [
    "> INPUT => CONV => **BN** => ACT => POOL => CONV => ACT => POOL => FC => FC"
   ]
  },
  {
   "cell_type": "markdown",
   "metadata": {},
   "source": [
    ">                                  if ACT (activation function) is ReLu:          \n",
    " $$ \\begin{equation*} f(x) =\\left \\{ \\begin{array}{1} {x, x> 0} \\\\ {0, x\\leq 0}\\end{array}\\right . \\end{equation*}$$\n",
    ">                                  then it is better to use such a scheme:                                 \n",
    ">   INPUT => CONV => ACT => **BN** => POOL => CONV => ACT => POOL => FC => FC "
   ]
  },
  {
   "cell_type": "markdown",
   "metadata": {},
   "source": [
    "## How does BN look like?\n"
   ]
  },
  {
   "cell_type": "markdown",
   "metadata": {},
   "source": [
    ">$$\n",
    "    \\begin{equation*}\n",
    "     \\hat {x}_{i} = \\frac{x_{i}-\\mu_{\\beta}}{\\sqrt{\\sigma_{\\beta}^{2} + \\varepsilon}}\n",
    "    \\end{equation*}\n",
    "$$\n",
    ">        Where:\n",
    "$$\n",
    "         \\begin {equation*}\n",
    "             \\mu_{\\beta} = \\frac{1}{M} \\sum_{j=1}^{m}{x_{j}},\n",
    "             {~~~~~~} \n",
    "             \\sigma_{\\beta}^{2} = \\frac{1}{M} \\sum_{j=1}^{m}{(x_j - \\mu_{\\beta})^2}, \n",
    "             {~~~~~~}\n",
    "             \\varepsilon << 1\n",
    "         \\end {equation*}\n",
    "$$"
   ]
  },
  {
   "cell_type": "markdown",
   "metadata": {},
   "source": [
    "## How does BN affect my CNN?"
   ]
  },
  {
   "cell_type": "markdown",
   "metadata": {},
   "source": [
    "> BN simplifies tuning such parameters like learning rate $ \\alpha $ or batch size. It also lowers the number of epochs, but the duration of a single epoch increases. As a bonus, losses become more stable."
   ]
  }
 ],
 "metadata": {
  "kernelspec": {
   "display_name": "tf",
   "language": "python",
   "name": "tf"
  },
  "language_info": {
   "codemirror_mode": {
    "name": "ipython",
    "version": 3
   },
   "file_extension": ".py",
   "mimetype": "text/x-python",
   "name": "python",
   "nbconvert_exporter": "python",
   "pygments_lexer": "ipython3",
   "version": "3.6.6"
  }
 },
 "nbformat": 4,
 "nbformat_minor": 2
}
