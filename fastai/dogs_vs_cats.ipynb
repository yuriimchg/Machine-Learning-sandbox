{
 "cells": [
  {
   "cell_type": "code",
   "execution_count": 1,
   "metadata": {},
   "outputs": [
    {
     "name": "stderr",
     "output_type": "stream",
     "text": [
      "Using TensorFlow backend.\n"
     ]
    }
   ],
   "source": [
    "import numpy as np\n",
    "import matplotlib.pyplot as plt\n",
    "import os\n",
    "\n",
    "from keras.preprocessing.image import ImageDataGenerator\n",
    "from keras.preprocessing import image\n",
    "\n",
    "from keras.layers import Dense, Flatten, Dropout, GlobalAveragePooling2D\n",
    "from keras.models import Sequential, Model\n",
    "from keras.applications import ResNet50\n",
    "\n",
    "from keras import backend as K"
   ]
  },
  {
   "cell_type": "code",
   "execution_count": 2,
   "metadata": {},
   "outputs": [],
   "source": [
    "%reload_ext autoreload\n",
    "%autoreload 2\n",
    "%matplotlib inline"
   ]
  },
  {
   "cell_type": "markdown",
   "metadata": {},
   "source": [
    "                                Parameters"
   ]
  },
  {
   "cell_type": "code",
   "execution_count": 3,
   "metadata": {},
   "outputs": [],
   "source": [
    "PATH = 'data/dogs_vs_cats/'\n",
    "imsize = (224, 224)\n",
    "batch_size = 64\n",
    "train_data_dir = os.path.join(PATH, 'train')\n",
    "valid_data_dir = os.path.join(PATH, 'valid')"
   ]
  },
  {
   "cell_type": "code",
   "execution_count": 4,
   "metadata": {},
   "outputs": [],
   "source": [
    "epochs = 10\n",
    "batch_size = 8\n",
    "workers = 4"
   ]
  },
  {
   "cell_type": "code",
   "execution_count": 5,
   "metadata": {},
   "outputs": [
    {
     "name": "stdout",
     "output_type": "stream",
     "text": [
      "Found 1594 images belonging to 2 classes.\n",
      "Found 400 images belonging to 2 classes.\n"
     ]
    }
   ],
   "source": [
    "# Generate data with normalization data augmentation (shear, zoom, horizontal flip)\n",
    "train_datagen = ImageDataGenerator(rescale=1./255, shear_range=0.2, zoom_range=0.2, horizontal_flip=True)\n",
    "valid_datagen = ImageDataGenerator(rescale=1./255)\n",
    "# Generate images from train / valid directories\n",
    "train_generator = train_datagen.flow_from_directory(train_data_dir,\n",
    "                                                    target_size=imsize,\n",
    "                                                    batch_size=batch_size,\n",
    "                                                    class_mode='binary')\n",
    "validation_generator = valid_datagen.flow_from_directory(valid_data_dir,\n",
    "                                                         shuffle=False,\n",
    "                                                         target_size=imsize,\n",
    "                                                         batch_size=batch_size,\n",
    "                                                         # class_mode=\"categorical\" if there are more, than 2 classes\n",
    "                                                         class_mode='binary'\n",
    "                                                         )\n"
   ]
  },
  {
   "cell_type": "code",
   "execution_count": 6,
   "metadata": {},
   "outputs": [
    {
     "name": "stderr",
     "output_type": "stream",
     "text": [
      "/home/yurii/Work/study/tf/lib/python3.6/site-packages/keras_applications/resnet50.py:265: UserWarning: The output shape of `ResNet50(include_top=False)` has been changed since Keras 2.2.0.\n",
      "  warnings.warn('The output shape of `ResNet50(include_top=False)` '\n"
     ]
    }
   ],
   "source": [
    "# Choose ResNet50 with pretrained imagenet weights as the base model\n",
    "base_model = ResNet50(weights='imagenet', include_top=False)\n",
    "# Get its output, add the average pooling layer and 1024 Dense layer\n",
    "X = base_model.output\n",
    "X = GlobalAveragePooling2D()(X)\n",
    "X = Dense(1024, activation='relu')(X)\n",
    "# Get the output\n",
    "predictions = Dense(1, activation='sigmoid')(X)"
   ]
  },
  {
   "cell_type": "code",
   "execution_count": 7,
   "metadata": {},
   "outputs": [],
   "source": [
    "# Define a model\n",
    "model = Model(inputs=base_model.input, outputs=predictions)\n",
    "# Freeze the layers\n",
    "for layer in base_model.layers:\n",
    "    layer_trainable = False\n",
    "# Compile the model, once it is ready to use\n",
    "model.compile(optimizer='rmsprop', loss='binary_crossentropy', metrics=['accuracy'])"
   ]
  },
  {
   "cell_type": "code",
   "execution_count": 8,
   "metadata": {},
   "outputs": [
    {
     "name": "stdout",
     "output_type": "stream",
     "text": [
      "Epoch 1/10\n",
      "199/199 [==============================] - 50s 252ms/step - loss: 1.4047 - acc: 0.5308 - val_loss: 0.6937 - val_acc: 0.5000\n",
      "Epoch 2/10\n",
      "199/199 [==============================] - 41s 207ms/step - loss: 0.7132 - acc: 0.5358 - val_loss: 0.7598 - val_acc: 0.5425\n",
      "Epoch 3/10\n",
      "199/199 [==============================] - 41s 207ms/step - loss: 0.7014 - acc: 0.5320 - val_loss: 2.3110 - val_acc: 0.5225\n",
      "Epoch 4/10\n",
      "199/199 [==============================] - 41s 208ms/step - loss: 0.6936 - acc: 0.5402 - val_loss: 0.7393 - val_acc: 0.5300\n",
      "Epoch 5/10\n",
      "199/199 [==============================] - 41s 205ms/step - loss: 0.6988 - acc: 0.5138 - val_loss: 0.6730 - val_acc: 0.5875\n",
      "Epoch 6/10\n",
      "199/199 [==============================] - 42s 210ms/step - loss: 0.6886 - acc: 0.5540 - val_loss: 0.7067 - val_acc: 0.5225\n",
      "Epoch 7/10\n",
      "199/199 [==============================] - 41s 205ms/step - loss: 0.6908 - acc: 0.5421 - val_loss: 0.6911 - val_acc: 0.5250\n",
      "Epoch 8/10\n",
      "199/199 [==============================] - 41s 204ms/step - loss: 0.6917 - acc: 0.5427 - val_loss: 0.6488 - val_acc: 0.5675\n",
      "Epoch 9/10\n",
      "199/199 [==============================] - 41s 206ms/step - loss: 0.6827 - acc: 0.5590 - val_loss: 1.1121 - val_acc: 0.5075\n",
      "Epoch 10/10\n",
      "199/199 [==============================] - 42s 211ms/step - loss: 0.6803 - acc: 0.5760 - val_loss: 0.7428 - val_acc: 0.5850\n",
      "CPU times: user 8min 19s, sys: 1min 19s, total: 9min 39s\n",
      "Wall time: 7min 5s\n"
     ]
    },
    {
     "data": {
      "text/plain": [
       "<keras.callbacks.History at 0x7fd9a4d8a358>"
      ]
     },
     "execution_count": 8,
     "metadata": {},
     "output_type": "execute_result"
    }
   ],
   "source": [
    "%%time\n",
    "\n",
    "model.fit_generator(train_generator, train_generator.n // batch_size, epochs=epochs, workers=workers,\n",
    "                   validation_data=validation_generator, validation_steps=validation_generator.n // batch_size)"
   ]
  },
  {
   "cell_type": "code",
   "execution_count": 9,
   "metadata": {},
   "outputs": [],
   "source": [
    "# Fine-tune everything from a layer 140\n",
    "split_at = 140\n",
    "for layer in model.layers[:split_at]:\n",
    "    layer.trainable = False\n",
    "for layer in model.layers[split_at:]:\n",
    "    layer.trainable = True\n",
    "# Recompile the model\n",
    "model.compile(optimizer='rmsprop', loss='binary_crossentropy', metrics=['accuracy'])"
   ]
  },
  {
   "cell_type": "code",
   "execution_count": 10,
   "metadata": {},
   "outputs": [
    {
     "name": "stdout",
     "output_type": "stream",
     "text": [
      "Epoch 1/1\n",
      "199/199 [==============================] - 26s 130ms/step - loss: 0.6709 - acc: 0.5779 - val_loss: 0.7282 - val_acc: 0.5900\n",
      "CPU times: user 38.2 s, sys: 3.29 s, total: 41.5 s\n",
      "Wall time: 27.2 s\n"
     ]
    },
    {
     "data": {
      "text/plain": [
       "<keras.callbacks.History at 0x7fd9284a1668>"
      ]
     },
     "execution_count": 10,
     "metadata": {},
     "output_type": "execute_result"
    }
   ],
   "source": [
    "%%time\n",
    "model.fit_generator(train_generator, train_generator.n // batch_size, epochs=1,\n",
    "                    validation_data=validation_generator,\n",
    "                    validation_steps=validation_generator.n // batch_size)"
   ]
  },
  {
   "cell_type": "code",
   "execution_count": 22,
   "metadata": {},
   "outputs": [
    {
     "data": {
      "text/plain": [
       "[<keras.engine.input_layer.InputLayer at 0x7fd9a4d8a6d8>,\n",
       " <keras.layers.convolutional.ZeroPadding2D at 0x7fd9a4d8ab00>,\n",
       " <keras.layers.convolutional.Conv2D at 0x7fd9a4d956d8>,\n",
       " <keras.layers.normalization.BatchNormalization at 0x7fd9a4d95da0>,\n",
       " <keras.layers.core.Activation at 0x7fd9a4d95a58>,\n",
       " <keras.layers.convolutional.ZeroPadding2D at 0x7fd9a4cfde48>,\n",
       " <keras.layers.pooling.MaxPooling2D at 0x7fda42541b00>,\n",
       " <keras.layers.convolutional.Conv2D at 0x7fd9a455e208>,\n",
       " <keras.layers.normalization.BatchNormalization at 0x7fd9a4c44860>,\n",
       " <keras.layers.core.Activation at 0x7fd9a4c44908>,\n",
       " <keras.layers.convolutional.Conv2D at 0x7fd99c04add8>,\n",
       " <keras.layers.normalization.BatchNormalization at 0x7fd9a45badd8>,\n",
       " <keras.layers.core.Activation at 0x7fd984087d68>,\n",
       " <keras.layers.convolutional.Conv2D at 0x7fd9780c0a58>,\n",
       " <keras.layers.convolutional.Conv2D at 0x7fd97064aeb8>,\n",
       " <keras.layers.normalization.BatchNormalization at 0x7fd9780645c0>,\n",
       " <keras.layers.normalization.BatchNormalization at 0x7fd9701d4a20>,\n",
       " <keras.layers.merge.Add at 0x7fd9701a5710>,\n",
       " <keras.layers.core.Activation at 0x7fd97013ec18>,\n",
       " <keras.layers.convolutional.Conv2D at 0x7fd97013e898>,\n",
       " <keras.layers.normalization.BatchNormalization at 0x7fd9700a9978>,\n",
       " <keras.layers.core.Activation at 0x7fd97001cf98>,\n",
       " <keras.layers.convolutional.Conv2D at 0x7fd95a03ab38>,\n",
       " <keras.layers.normalization.BatchNormalization at 0x7fd959fddfd0>,\n",
       " <keras.layers.core.Activation at 0x7fd959fa7668>,\n",
       " <keras.layers.convolutional.Conv2D at 0x7fd959df0550>,\n",
       " <keras.layers.normalization.BatchNormalization at 0x7fd959d91208>,\n",
       " <keras.layers.merge.Add at 0x7fd959d60748>,\n",
       " <keras.layers.core.Activation at 0x7fd959cfdfd0>,\n",
       " <keras.layers.convolutional.Conv2D at 0x7fd959cbfe80>,\n",
       " <keras.layers.normalization.BatchNormalization at 0x7fd959c14278>,\n",
       " <keras.layers.core.Activation at 0x7fd959c03198>,\n",
       " <keras.layers.convolutional.Conv2D at 0x7fd959a6ddd8>,\n",
       " <keras.layers.normalization.BatchNormalization at 0x7fd959a4bb38>,\n",
       " <keras.layers.core.Activation at 0x7fd959a189e8>,\n",
       " <keras.layers.convolutional.Conv2D at 0x7fd959959a20>,\n",
       " <keras.layers.normalization.BatchNormalization at 0x7fd959982588>,\n",
       " <keras.layers.merge.Add at 0x7fd959860ef0>,\n",
       " <keras.layers.core.Activation at 0x7fd959814320>,\n",
       " <keras.layers.convolutional.Conv2D at 0x7fd9598144e0>,\n",
       " <keras.layers.normalization.BatchNormalization at 0x7fd959669588>,\n",
       " <keras.layers.core.Activation at 0x7fd959669438>,\n",
       " <keras.layers.convolutional.Conv2D at 0x7fd95961abe0>,\n",
       " <keras.layers.normalization.BatchNormalization at 0x7fd9595db320>,\n",
       " <keras.layers.core.Activation at 0x7fd9595af2e8>,\n",
       " <keras.layers.convolutional.Conv2D at 0x7fd959545b38>,\n",
       " <keras.layers.convolutional.Conv2D at 0x7fd9594bc8d0>,\n",
       " <keras.layers.normalization.BatchNormalization at 0x7fd9594ee9b0>,\n",
       " <keras.layers.normalization.BatchNormalization at 0x7fd9593a3dd8>,\n",
       " <keras.layers.merge.Add at 0x7fd959271b00>,\n",
       " <keras.layers.core.Activation at 0x7fd9591af0f0>,\n",
       " <keras.layers.convolutional.Conv2D at 0x7fd95914ec50>,\n",
       " <keras.layers.normalization.BatchNormalization at 0x7fd9591272b0>,\n",
       " <keras.layers.core.Activation at 0x7fd9590901d0>,\n",
       " <keras.layers.convolutional.Conv2D at 0x7fd959080e10>,\n",
       " <keras.layers.normalization.BatchNormalization at 0x7fd959060b70>,\n",
       " <keras.layers.core.Activation at 0x7fd95902ba20>,\n",
       " <keras.layers.convolutional.Conv2D at 0x7fd958e6ba58>,\n",
       " <keras.layers.normalization.BatchNormalization at 0x7fd958e115c0>,\n",
       " <keras.layers.merge.Add at 0x7fd958d76f28>,\n",
       " <keras.layers.core.Activation at 0x7fd958d23358>,\n",
       " <keras.layers.convolutional.Conv2D at 0x7fd958d23518>,\n",
       " <keras.layers.normalization.BatchNormalization at 0x7fd958c98630>,\n",
       " <keras.layers.core.Activation at 0x7fd958c76550>,\n",
       " <keras.layers.convolutional.Conv2D at 0x7fd958c2fc18>,\n",
       " <keras.layers.normalization.BatchNormalization at 0x7fd958bf1358>,\n",
       " <keras.layers.core.Activation at 0x7fd958bc5320>,\n",
       " <keras.layers.convolutional.Conv2D at 0x7fd9589ddb70>,\n",
       " <keras.layers.normalization.BatchNormalization at 0x7fd958a029e8>,\n",
       " <keras.layers.merge.Add at 0x7fd958953908>,\n",
       " <keras.layers.core.Activation at 0x7fd95888e828>,\n",
       " <keras.layers.convolutional.Conv2D at 0x7fd95888e898>,\n",
       " <keras.layers.normalization.BatchNormalization at 0x7fd958884390>,\n",
       " <keras.layers.core.Activation at 0x7fd95869ff98>,\n",
       " <keras.layers.convolutional.Conv2D at 0x7fd9586c64e0>,\n",
       " <keras.layers.normalization.BatchNormalization at 0x7fd958663198>,\n",
       " <keras.layers.core.Activation at 0x7fd9585d4cf8>,\n",
       " <keras.layers.convolutional.Conv2D at 0x7fd958550f60>,\n",
       " <keras.layers.normalization.BatchNormalization at 0x7fd958571ef0>,\n",
       " <keras.layers.merge.Add at 0x7fd9584e3208>,\n",
       " <keras.layers.core.Activation at 0x7fd95847eb00>,\n",
       " <keras.layers.convolutional.Conv2D at 0x7fd95847e6a0>,\n",
       " <keras.layers.normalization.BatchNormalization at 0x7fd9582e07f0>,\n",
       " <keras.layers.core.Activation at 0x7fd95825ec50>,\n",
       " <keras.layers.convolutional.Conv2D at 0x7fd95823ec50>,\n",
       " <keras.layers.normalization.BatchNormalization at 0x7fd9581d8518>,\n",
       " <keras.layers.core.Activation at 0x7fd958145e80>,\n",
       " <keras.layers.convolutional.Conv2D at 0x7fd9580e93c8>,\n",
       " <keras.layers.convolutional.Conv2D at 0x7fd95805d9b0>,\n",
       " <keras.layers.normalization.BatchNormalization at 0x7fd958105080>,\n",
       " <keras.layers.normalization.BatchNormalization at 0x7fd953e8ae10>,\n",
       " <keras.layers.merge.Add at 0x7fd953e06240>,\n",
       " <keras.layers.core.Activation at 0x7fd953d96cf8>,\n",
       " <keras.layers.convolutional.Conv2D at 0x7fd953d96be0>,\n",
       " <keras.layers.normalization.BatchNormalization at 0x7fd953ccbe48>,\n",
       " <keras.layers.core.Activation at 0x7fd953c93320>,\n",
       " <keras.layers.convolutional.Conv2D at 0x7fd953c0ddd8>,\n",
       " <keras.layers.normalization.BatchNormalization at 0x7fd953c6db70>,\n",
       " <keras.layers.core.Activation at 0x7fd953be9160>,\n",
       " <keras.layers.convolutional.Conv2D at 0x7fd953a79ac8>,\n",
       " <keras.layers.normalization.BatchNormalization at 0x7fd953a1d630>,\n",
       " <keras.layers.merge.Add at 0x7fd95397ff98>,\n",
       " <keras.layers.core.Activation at 0x7fd95392d3c8>,\n",
       " <keras.layers.convolutional.Conv2D at 0x7fd95392d588>,\n",
       " <keras.layers.normalization.BatchNormalization at 0x7fd9538a2828>,\n",
       " <keras.layers.core.Activation at 0x7fd953804a20>,\n",
       " <keras.layers.convolutional.Conv2D at 0x7fd9536e0630>,\n",
       " <keras.layers.normalization.BatchNormalization at 0x7fd9536832e8>,\n",
       " <keras.layers.core.Activation at 0x7fd95364e7b8>,\n",
       " <keras.layers.convolutional.Conv2D at 0x7fd9535f0c50>,\n",
       " <keras.layers.normalization.BatchNormalization at 0x7fd9535af390>,\n",
       " <keras.layers.merge.Add at 0x7fd958105ef0>,\n",
       " <keras.layers.core.Activation at 0x7fd953498be0>,\n",
       " <keras.layers.convolutional.Conv2D at 0x7fd9534987f0>,\n",
       " <keras.layers.normalization.BatchNormalization at 0x7fd953408940>,\n",
       " <keras.layers.core.Activation at 0x7fd953297240>,\n",
       " <keras.layers.convolutional.Conv2D at 0x7fd95320fdd8>,\n",
       " <keras.layers.normalization.BatchNormalization at 0x7fd95326fb70>,\n",
       " <keras.layers.core.Activation at 0x7fd9531eb160>,\n",
       " <keras.layers.convolutional.Conv2D at 0x7fd95317cac8>,\n",
       " <keras.layers.normalization.BatchNormalization at 0x7fd95311f630>,\n",
       " <keras.layers.merge.Add at 0x7fd953005f98>,\n",
       " <keras.layers.core.Activation at 0x7fd9530333c8>,\n",
       " <keras.layers.convolutional.Conv2D at 0x7fd953033588>,\n",
       " <keras.layers.normalization.BatchNormalization at 0x7fd952ea7828>,\n",
       " <keras.layers.core.Activation at 0x7fd952e05a20>,\n",
       " <keras.layers.convolutional.Conv2D at 0x7fd952de1630>,\n",
       " <keras.layers.normalization.BatchNormalization at 0x7fd952d862e8>,\n",
       " <keras.layers.core.Activation at 0x7fd952d517b8>,\n",
       " <keras.layers.convolutional.Conv2D at 0x7fd952cefc50>,\n",
       " <keras.layers.normalization.BatchNormalization at 0x7fd952cae390>,\n",
       " <keras.layers.merge.Add at 0x7fd952c04358>,\n",
       " <keras.layers.core.Activation at 0x7fd952a9bbe0>,\n",
       " <keras.layers.convolutional.Conv2D at 0x7fd952a9b7f0>,\n",
       " <keras.layers.normalization.BatchNormalization at 0x7fd952a07940>,\n",
       " <keras.layers.core.Activation at 0x7fd95299c240>,\n",
       " <keras.layers.convolutional.Conv2D at 0x7fd952912dd8>,\n",
       " <keras.layers.normalization.BatchNormalization at 0x7fd952972b70>,\n",
       " <keras.layers.core.Activation at 0x7fd9528ef160>,\n",
       " <keras.layers.convolutional.Conv2D at 0x7fd952800ac8>,\n",
       " <keras.layers.normalization.BatchNormalization at 0x7fd952823630>,\n",
       " <keras.layers.merge.Add at 0x7fd952604f98>,\n",
       " <keras.layers.core.Activation at 0x7fd9526353c8>,\n",
       " <keras.layers.convolutional.Conv2D at 0x7fd952635588>,\n",
       " <keras.layers.normalization.BatchNormalization at 0x7fd9525a9828>,\n",
       " <keras.layers.core.Activation at 0x7fd952509a20>,\n",
       " <keras.layers.convolutional.Conv2D at 0x7fd9524e7630>,\n",
       " <keras.layers.normalization.BatchNormalization at 0x7fd9524882e8>,\n",
       " <keras.layers.core.Activation at 0x7fd9524547b8>,\n",
       " <keras.layers.convolutional.Conv2D at 0x7fd9522f1c50>,\n",
       " <keras.layers.convolutional.Conv2D at 0x7fd952206358>,\n",
       " <keras.layers.normalization.BatchNormalization at 0x7fd9522b4390>,\n",
       " <keras.layers.normalization.BatchNormalization at 0x7fd952140e80>,\n",
       " <keras.layers.merge.Add at 0x7fd95210d320>,\n",
       " <keras.layers.core.Activation at 0x7fd951f4da90>,\n",
       " <keras.layers.convolutional.Conv2D at 0x7fd951f4db00>,\n",
       " <keras.layers.normalization.BatchNormalization at 0x7fd951eb1e48>,\n",
       " <keras.layers.core.Activation at 0x7fd951e59160>,\n",
       " <keras.layers.convolutional.Conv2D at 0x7fd951e00cf8>,\n",
       " <keras.layers.normalization.BatchNormalization at 0x7fd951e28f28>,\n",
       " <keras.layers.core.Activation at 0x7fd951df4828>,\n",
       " <keras.layers.convolutional.Conv2D at 0x7fd951d3c710>,\n",
       " <keras.layers.normalization.BatchNormalization at 0x7fd951cda3c8>,\n",
       " <keras.layers.merge.Add at 0x7fd951ba7320>,\n",
       " <keras.layers.core.Activation at 0x7fd951aee278>,\n",
       " <keras.layers.convolutional.Conv2D at 0x7fd951aee160>,\n",
       " <keras.layers.normalization.BatchNormalization at 0x7fd951a5e438>,\n",
       " <keras.layers.core.Activation at 0x7fd9519f7e80>,\n",
       " <keras.layers.convolutional.Conv2D at 0x7fd95199d3c8>,\n",
       " <keras.layers.normalization.BatchNormalization at 0x7fd9519bc080>,\n",
       " <keras.layers.core.Activation at 0x7fd9519109b0>,\n",
       " <keras.layers.convolutional.Conv2D at 0x7fd951769f28>,\n",
       " <keras.layers.normalization.BatchNormalization at 0x7fd95174add8>,\n",
       " <keras.layers.merge.Add at 0x7fd9516c6518>,\n",
       " <keras.layers.core.Activation at 0x7fd951657b00>,\n",
       " <keras.layers.pooling.GlobalAveragePooling2D at 0x7fd95167d710>,\n",
       " <keras.layers.core.Dense at 0x7fd9a4d8a780>,\n",
       " <keras.layers.core.Dense at 0x7fd9515c9550>]"
      ]
     },
     "execution_count": 22,
     "metadata": {},
     "output_type": "execute_result"
    }
   ],
   "source": [
    "model.layersA"
   ]
  }
 ],
 "metadata": {
  "kernelspec": {
   "display_name": "tf",
   "language": "python",
   "name": "tf"
  },
  "language_info": {
   "codemirror_mode": {
    "name": "ipython",
    "version": 3
   },
   "file_extension": ".py",
   "mimetype": "text/x-python",
   "name": "python",
   "nbconvert_exporter": "python",
   "pygments_lexer": "ipython3",
   "version": "3.6.6"
  }
 },
 "nbformat": 4,
 "nbformat_minor": 2
}
