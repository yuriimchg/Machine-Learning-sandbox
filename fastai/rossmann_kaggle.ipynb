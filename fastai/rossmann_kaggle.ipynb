{
 "cells": [
  {
   "cell_type": "markdown",
   "metadata": {},
   "source": [
    "# Rossman Kaggle Competition Analysis\n",
    "This is the third result implementation. This notebook is created for studying purposes only.\n",
    "\n",
    "**Motivation**: learn to operate with structured and time-series data."
   ]
  },
  {
   "cell_type": "code",
   "execution_count": 9,
   "metadata": {},
   "outputs": [],
   "source": [
    "%matplotlib inline\n",
    "%reload_ext autoreload\n",
    "%autoreload 2"
   ]
  },
  {
   "cell_type": "code",
   "execution_count": 10,
   "metadata": {},
   "outputs": [],
   "source": [
    "import numpy as np\n",
    "import pandas as pd\n",
    "import matplotlib.pyplot as plt\n",
    "import seaborn as sn\n",
    "import os"
   ]
  },
  {
   "cell_type": "code",
   "execution_count": 11,
   "metadata": {},
   "outputs": [],
   "source": [
    "np.set_printoptions(threshold=50, edgeitems=20)\n",
    "PATH = 'data/rossman/'"
   ]
  },
  {
   "cell_type": "markdown",
   "metadata": {},
   "source": [
    "Create dataset from the raw data + external data from csv-files in _PATH_ folder"
   ]
  },
  {
   "cell_type": "code",
   "execution_count": 28,
   "metadata": {},
   "outputs": [],
   "source": [
    "def concat_csvs(directory, output):\n",
    "    csvs = os.listdir(directory)\n",
    "    csvs = list(filter(lambda filename: filename.endswith('.csv'), csvs))\n",
    "    is_header = False\n",
    "    \n",
    "    if not output.endswith('.csv'):\n",
    "        assert False, \"Choose the proper file extension, you, bitch!\"\n",
    "    # Create common csv-file\n",
    "    with open(output, 'w') as outfile:\n",
    "        for csvfile in csvs:\n",
    "            # Get the name of the file to set as header\n",
    "            name = csvfile.split(\".\")[0].split(\"/\")[1]\n",
    "            yield name\n",
    "            \n"
   ]
  },
  {
   "cell_type": "code",
   "execution_count": 61,
   "metadata": {
    "scrolled": true
   },
   "outputs": [
    {
     "data": {
      "text/plain": [
       "<generator object concat_csvs at 0x7fd601819360>"
      ]
     },
     "execution_count": 61,
     "metadata": {},
     "output_type": "execute_result"
    }
   ],
   "source": [
    "concat_csvs(PATH, '1.csv')"
   ]
  }
 ],
 "metadata": {
  "kernelspec": {
   "display_name": "tf",
   "language": "python",
   "name": "tf"
  },
  "language_info": {
   "codemirror_mode": {
    "name": "ipython",
    "version": 3
   },
   "file_extension": ".py",
   "mimetype": "text/x-python",
   "name": "python",
   "nbconvert_exporter": "python",
   "pygments_lexer": "ipython3",
   "version": "3.6.6"
  }
 },
 "nbformat": 4,
 "nbformat_minor": 2
}
