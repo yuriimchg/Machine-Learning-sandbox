{
 "cells": [
  {
   "cell_type": "markdown",
   "metadata": {},
   "source": [
    "### Word embedding"
   ]
  },
  {
   "cell_type": "markdown",
   "metadata": {},
   "source": [
    "'usage of multitask learning and semi-supervised learning improves the generalization of shared tasks' - as is\n",
    "told in [this](https://ronan.collobert.com/pub/matos/2008_nlp_icml.pdf) article"
   ]
  },
  {
   "cell_type": "markdown",
   "metadata": {},
   "source": [
    "Word embeddings are more efficient than one-hot encoding & bag of words. It have become one of the most important applications of unsupervised learning domain."
   ]
  },
  {
   "cell_type": "markdown",
   "metadata": {},
   "source": [
    "### Neural Language Model (FNNLM)\n",
    "\n",
    "$$\n",
    "    L = \\frac{1}{T}\\sum_{t}{\\log{f(w_t, w_{t-1}, w_{t-2},...,w_{t-n+1}; \\theta)} + R(\\theta)}\n",
    "$$\n",
    "* $f$ - composite function of params related to distributed feature vectors of every word from vocabulary and parameters of NN. It returns the probability of the word at the $t$-th position using last $n$ words.<br>\n",
    "* $R(\\theta)$ - regularization\n",
    "\n",
    "\n",
    "##### FNNLM components:\n",
    "\n",
    "1. Embedding layer\n",
    "2. Intermediate layers\n",
    "3. Softmax layers\n"
   ]
  },
  {
   "cell_type": "markdown",
   "metadata": {},
   "source": [
    "p81"
   ]
  }
 ],
 "metadata": {
  "kernelspec": {
   "display_name": "NLP",
   "language": "python",
   "name": "nlp"
  },
  "language_info": {
   "codemirror_mode": {
    "name": "ipython",
    "version": 3
   },
   "file_extension": ".py",
   "mimetype": "text/x-python",
   "name": "python",
   "nbconvert_exporter": "python",
   "pygments_lexer": "ipython3",
   "version": "3.6.5"
  }
 },
 "nbformat": 4,
 "nbformat_minor": 2
}
