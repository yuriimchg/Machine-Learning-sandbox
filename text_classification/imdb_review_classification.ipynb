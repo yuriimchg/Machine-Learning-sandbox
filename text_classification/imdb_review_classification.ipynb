{
 "cells": [
  {
   "cell_type": "code",
   "execution_count": 21,
   "metadata": {},
   "outputs": [],
   "source": [
    "import os\n",
    "from datetime import datetime, timedelta\n",
    "\n",
    "import numpy as np\n",
    "import pandas as pd\n",
    "import matplotlib.pyplot as plt"
   ]
  },
  {
   "cell_type": "code",
   "execution_count": 14,
   "metadata": {},
   "outputs": [
    {
     "name": "stdout",
     "output_type": "stream",
     "text": [
      "/bin/sh: 1: aclImdb/train/pos: Permission denied\r\n"
     ]
    }
   ],
   "source": [
    "! aclImdb/train/pos"
   ]
  },
  {
   "cell_type": "code",
   "execution_count": 32,
   "metadata": {},
   "outputs": [],
   "source": [
    "def collect_reviews(sample, val):\n",
    "    print(f'Collecting {sample} {val} reviews')\n",
    "    start_ckpt = datetime.now()\n",
    "    path = os.path.join(f'aclImdb/{sample}/{val}')\n",
    "    files = os.listdir(path)\n",
    "    \n",
    "    sample_collector = []\n",
    "    for i, filename in enumerate(files):\n",
    "        filename = os.path.join(path, filename)\n",
    "        with open(filename, 'r') as f:\n",
    "            text = f.read()\n",
    "        sample_collector.append({'label': val, 'text': text})\n",
    "        if len(files) % (i+1) == 50:\n",
    "            now = datetime.now() - start_ckpt\n",
    "            print(f'{100 * i / len(files):.2f}% proceed in {now.seconds} seconds')\n",
    "    return pd.DataFrame(sample_collector)\n",
    "    "
   ]
  },
  {
   "cell_type": "code",
   "execution_count": 33,
   "metadata": {
    "scrolled": true
   },
   "outputs": [
    {
     "name": "stdout",
     "output_type": "stream",
     "text": [
      "Collecting train pos reviews\n",
      "0.59% proceed in 0 seconds\n",
      "0.66% proceed in 0 seconds\n",
      "1.19% proceed in 0 seconds\n",
      "1.32% proceed in 0 seconds\n",
      "1.98% proceed in 0 seconds\n",
      "3.31% proceed in 0 seconds\n",
      "3.98% proceed in 0 seconds\n",
      "6.63% proceed in 0 seconds\n",
      "9.95% proceed in 0 seconds\n",
      "16.59% proceed in 0 seconds\n",
      "19.91% proceed in 0 seconds\n",
      "33.19% proceed in 0 seconds\n",
      "49.79% proceed in 0 seconds\n",
      "99.59% proceed in 0 seconds\n",
      "Collecting train neg reviews\n",
      "0.59% proceed in 0 seconds\n",
      "0.66% proceed in 0 seconds\n",
      "1.19% proceed in 0 seconds\n",
      "1.32% proceed in 0 seconds\n",
      "1.98% proceed in 0 seconds\n",
      "3.31% proceed in 0 seconds\n",
      "3.98% proceed in 0 seconds\n",
      "6.63% proceed in 0 seconds\n",
      "9.95% proceed in 0 seconds\n",
      "16.59% proceed in 0 seconds\n",
      "19.91% proceed in 0 seconds\n",
      "33.19% proceed in 0 seconds\n",
      "49.79% proceed in 0 seconds\n",
      "99.59% proceed in 0 seconds\n",
      "Collecting test pos reviews\n",
      "0.59% proceed in 0 seconds\n",
      "0.66% proceed in 0 seconds\n",
      "1.19% proceed in 0 seconds\n",
      "1.32% proceed in 0 seconds\n",
      "1.98% proceed in 0 seconds\n",
      "3.31% proceed in 0 seconds\n",
      "3.98% proceed in 0 seconds\n",
      "6.63% proceed in 0 seconds\n",
      "9.95% proceed in 0 seconds\n",
      "16.59% proceed in 0 seconds\n",
      "19.91% proceed in 0 seconds\n",
      "33.19% proceed in 0 seconds\n",
      "49.79% proceed in 0 seconds\n",
      "99.59% proceed in 0 seconds\n",
      "Collecting test neg reviews\n",
      "0.59% proceed in 0 seconds\n",
      "0.66% proceed in 0 seconds\n",
      "1.19% proceed in 0 seconds\n",
      "1.32% proceed in 0 seconds\n",
      "1.98% proceed in 0 seconds\n",
      "3.31% proceed in 0 seconds\n",
      "3.98% proceed in 0 seconds\n",
      "6.63% proceed in 0 seconds\n",
      "9.95% proceed in 0 seconds\n",
      "16.59% proceed in 0 seconds\n",
      "19.91% proceed in 0 seconds\n",
      "33.19% proceed in 0 seconds\n",
      "49.79% proceed in 0 seconds\n",
      "99.59% proceed in 0 seconds\n"
     ]
    }
   ],
   "source": [
    "train_pos = collect_reviews('train', 'pos')\n",
    "train_neg = collect_reviews('train', 'neg')\n",
    "test_pos = collect_reviews('test', 'pos')\n",
    "test_neg = collect_reviews('test', 'neg')"
   ]
  },
  {
   "cell_type": "code",
   "execution_count": 39,
   "metadata": {},
   "outputs": [],
   "source": [
    "df_train = pd.concat([train_pos, train_neg])\n",
    "df_test = pd.concat([test_pos, test_neg])"
   ]
  },
  {
   "cell_type": "markdown",
   "metadata": {},
   "source": [
    "Shuffle Dataframes"
   ]
  },
  {
   "cell_type": "code",
   "execution_count": 46,
   "metadata": {},
   "outputs": [],
   "source": [
    "df_train = df_train.sample(frac=1).reset_index(drop=True)\n",
    "df_test = df_test.sample(frac=1).reset_index(drop=True)"
   ]
  },
  {
   "cell_type": "markdown",
   "metadata": {},
   "source": [
    "watch some info about data"
   ]
  },
  {
   "cell_type": "code",
   "execution_count": 53,
   "metadata": {},
   "outputs": [
    {
     "name": "stdout",
     "output_type": "stream",
     "text": [
      "<class 'pandas.core.frame.DataFrame'>\n",
      "RangeIndex: 25000 entries, 0 to 24999\n",
      "Data columns (total 2 columns):\n",
      "label    25000 non-null object\n",
      "text     25000 non-null object\n",
      "dtypes: object(2)\n",
      "memory usage: 390.7+ KB\n"
     ]
    }
   ],
   "source": [
    "df_train.info(verbose=True)"
   ]
  },
  {
   "cell_type": "code",
   "execution_count": 55,
   "metadata": {},
   "outputs": [
    {
     "name": "stdout",
     "output_type": "stream",
     "text": [
      "<class 'pandas.core.frame.DataFrame'>\n",
      "RangeIndex: 25000 entries, 0 to 24999\n",
      "Data columns (total 2 columns):\n",
      "label    25000 non-null object\n",
      "text     25000 non-null object\n",
      "dtypes: object(2)\n",
      "memory usage: 390.7+ KB\n"
     ]
    }
   ],
   "source": [
    "df_test.info(verbose=True)"
   ]
  },
  {
   "cell_type": "code",
   "execution_count": 61,
   "metadata": {},
   "outputs": [
    {
     "data": {
      "text/html": [
       "<div>\n",
       "<style scoped>\n",
       "    .dataframe tbody tr th:only-of-type {\n",
       "        vertical-align: middle;\n",
       "    }\n",
       "\n",
       "    .dataframe tbody tr th {\n",
       "        vertical-align: top;\n",
       "    }\n",
       "\n",
       "    .dataframe thead th {\n",
       "        text-align: right;\n",
       "    }\n",
       "</style>\n",
       "<table border=\"1\" class=\"dataframe\">\n",
       "  <thead>\n",
       "    <tr style=\"text-align: right;\">\n",
       "      <th></th>\n",
       "      <th>label</th>\n",
       "      <th>text</th>\n",
       "      <th>label</th>\n",
       "      <th>text</th>\n",
       "    </tr>\n",
       "  </thead>\n",
       "  <tbody>\n",
       "    <tr>\n",
       "      <th>count</th>\n",
       "      <td>25000</td>\n",
       "      <td>25000</td>\n",
       "      <td>25000</td>\n",
       "      <td>25000</td>\n",
       "    </tr>\n",
       "    <tr>\n",
       "      <th>unique</th>\n",
       "      <td>2</td>\n",
       "      <td>24904</td>\n",
       "      <td>2</td>\n",
       "      <td>24801</td>\n",
       "    </tr>\n",
       "    <tr>\n",
       "      <th>top</th>\n",
       "      <td>pos</td>\n",
       "      <td>When i got this movie free from my job, along ...</td>\n",
       "      <td>pos</td>\n",
       "      <td>Loved today's show!!! It was a variety and not...</td>\n",
       "    </tr>\n",
       "    <tr>\n",
       "      <th>freq</th>\n",
       "      <td>12500</td>\n",
       "      <td>3</td>\n",
       "      <td>12500</td>\n",
       "      <td>5</td>\n",
       "    </tr>\n",
       "  </tbody>\n",
       "</table>\n",
       "</div>"
      ],
      "text/plain": [
       "        label                                               text  label  \\\n",
       "count   25000                                              25000  25000   \n",
       "unique      2                                              24904      2   \n",
       "top       pos  When i got this movie free from my job, along ...    pos   \n",
       "freq    12500                                                  3  12500   \n",
       "\n",
       "                                                     text  \n",
       "count                                               25000  \n",
       "unique                                              24801  \n",
       "top     Loved today's show!!! It was a variety and not...  \n",
       "freq                                                    5  "
      ]
     },
     "execution_count": 61,
     "metadata": {},
     "output_type": "execute_result"
    }
   ],
   "source": [
    "pd.concat([df_train.describe(), df_test.describe()], axis=1)"
   ]
  },
  {
   "cell_type": "code",
   "execution_count": null,
   "metadata": {},
   "outputs": [],
   "source": []
  }
 ],
 "metadata": {
  "kernelspec": {
   "display_name": "NLP",
   "language": "python",
   "name": "nlp"
  },
  "language_info": {
   "codemirror_mode": {
    "name": "ipython",
    "version": 3
   },
   "file_extension": ".py",
   "mimetype": "text/x-python",
   "name": "python",
   "nbconvert_exporter": "python",
   "pygments_lexer": "ipython3",
   "version": "3.6.5"
  }
 },
 "nbformat": 4,
 "nbformat_minor": 2
}
