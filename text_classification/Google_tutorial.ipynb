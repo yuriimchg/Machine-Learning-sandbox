{
 "cells": [
  {
   "cell_type": "markdown",
   "metadata": {},
   "source": [
    "### Studying text classification\n",
    "\n",
    "Build a simple text classification model with this tutorial: \n",
    "\n",
    "https://developers.google.com/machine-learning/guides/text-classification/step-2"
   ]
  },
  {
   "cell_type": "code",
   "execution_count": 1,
   "metadata": {},
   "outputs": [],
   "source": [
    "import os\n",
    "\n",
    "import numpy as np\n",
    "import pandas as pd\n",
    "import matplotlib.pyplot as plt\n",
    "import tensorflow as tf\n",
    "\n",
    "from sklearn.feature_extraction.text import TfidfVectorizer\n",
    "from sklearn.feature_selection import SelectKBest\n",
    "from sklearn.feature_selection import f_classif"
   ]
  },
  {
   "cell_type": "code",
   "execution_count": 28,
   "metadata": {},
   "outputs": [],
   "source": [
    "def load_data(sample, path_to_data='aclImdb'):\n",
    "    \n",
    "    texts, labels = [], []\n",
    "    for category in ['pos', 'neg']:\n",
    "        dir_path = os.path.join(path_to_data, sample, category)\n",
    "        # Read all data from \".txt\" files\n",
    "        for filename in sorted(os.listdir(dir_path)):\n",
    "            if filename.endswith('.txt'):\n",
    "                # Add features\n",
    "                with open(os.path.join(dir_path, filename), 'r') as f:\n",
    "                    texts.append(f.read())\n",
    "                # Add labels\n",
    "                labels.append(0 if category == 'neg' else 1)\n",
    "                \n",
    "    return texts, labels\n",
    "    \n",
    "\n",
    "\n",
    "def load_imdb_sentiment_analysis_data(random_seed=42):\n",
    "    abs_path = os.path.abspath('aclImdb')\n",
    "    \n",
    "    # Training_data\n",
    "    train_texts, train_labels = load_data(sample='train')\n",
    "    test_texts, test_labels = load_data(sample='test')\n",
    "    \n",
    "    # Now shuffle the training data only\n",
    "    np.random.seed(random_seed)\n",
    "    np.random.shuffle(train_texts)\n",
    "    np.random.seed(random_seed)\n",
    "    np.random.shuffle(train_labels)\n",
    "    \n",
    "    return (train_texts, np.array(train_labels), test_texts, np.array(test_labels))\n"
   ]
  },
  {
   "cell_type": "markdown",
   "metadata": {},
   "source": [
    "Check how does data look like"
   ]
  },
  {
   "cell_type": "code",
   "execution_count": 29,
   "metadata": {},
   "outputs": [],
   "source": [
    "(train_texts, train_labels, test_texts, test_labels)  = load_imdb_sentiment_analysis_data()"
   ]
  },
  {
   "cell_type": "code",
   "execution_count": 4,
   "metadata": {
    "scrolled": true
   },
   "outputs": [
    {
     "data": {
      "text/plain": [
       "('This movie seemed like it was going to be better than it ended up being. The cinematography is good, the acting seemed solid, the dialogue wasn\\'t too stiff... but then about twenty minutes in there\\'s this long scene with a Doctor who you know is actually a patient at the asylum pretending to be a Doctor - and it just goes south from there.<br /><br />On top of that, the demon is about the silliest looking hellspawn since the Godzilla-looking thing in Curse of the Demon. There\\'s also some odd demon worshippers who wear masks that look like the exploding teens from the beginning of Logan\\'s Run.<br /><br />In the end, the cinematography couldn\\'t save this movie. Despite some pretty solid performances by the actors, the story just doesn\\'t go anywhere. I think \"Hellbored\" would have been a better title for this.',\n",
       " 0)"
      ]
     },
     "execution_count": 4,
     "metadata": {},
     "output_type": "execute_result"
    }
   ],
   "source": [
    "train_texts[99], train_labels[99]"
   ]
  },
  {
   "cell_type": "code",
   "execution_count": 13,
   "metadata": {},
   "outputs": [],
   "source": [
    "def get_words_per_sample(sample_texts):\n",
    "    num_words = [len(s.split(' ')) for s in sample_texts]\n",
    "    return np.median(num_words)\n",
    "\n",
    "def plot_sample_length_distribution(sample_texts):\n",
    "    plt.figure(figsize=(15, 10))\n",
    "    plt.hist([len(s.split(' ')) for s in sample_texts], bins=100, color='red')\n",
    "    plt.grid()\n",
    "    \n",
    "    plt.xlabel('Lenght of sample')\n",
    "    plt.ylabel('Count of samples')\n",
    "    plt.title('Sample length distribution')\n",
    "    \n",
    "    plt.show()\n",
    "    \n",
    "def get_num_classes(labels):\n",
    "    \n",
    "    num_classes = max(labels) + 1\n",
    "    missing_classes = [i for i in range(num_classes) if i not in labels]\n",
    "    if len(missing_classes):\n",
    "        raise ValueError('Missing samples with label value(s) '\n",
    "                         '{missing_classes}. Please make sure you have '\n",
    "                         'at least one sample for every label value '\n",
    "                         'in the range(0, {max_class})'.format(\n",
    "                            missing_classes=missing_classes,\n",
    "                            max_class=num_classes - 1))\n",
    "\n",
    "    if num_classes <= 1:\n",
    "        raise ValueError('Invalid number of labels: {num_classes}.'\n",
    "                         'Please make sure there are at least two classes '\n",
    "                         'of samples'.format(num_classes=num_classes))\n",
    "    return num_classes"
   ]
  },
  {
   "cell_type": "code",
   "execution_count": 6,
   "metadata": {},
   "outputs": [
    {
     "data": {
      "image/png": "[encoded data removed]",
      "text/plain": [
       "<Figure size 1080x720 with 1 Axes>"
      ]
     },
     "metadata": {
      "needs_background": "light"
     },
     "output_type": "display_data"
    }
   ],
   "source": [
    "plot_sample_length_distribution(train_texts)"
   ]
  },
  {
   "cell_type": "markdown",
   "metadata": {},
   "source": [
    "### Algorithm for Data Preparation and Model Building\n",
    "1. Calculate the number of samples/number of words per sample ratio.\n",
    "2. If this ratio is less than 1500, tokenize the text as n-grams and use a\n",
    "simple multi-layer perceptron (MLP) model to classify them (left branch in the\n",
    "flowchart below):\n",
    "  a. Split the samples into word n-grams; convert the n-grams into vectors.\n",
    "  b. Score the importance of the vectors and then select the top 20K using the scores.\n",
    "  c. Build an MLP model.\n",
    "3. If the ratio is greater than 1500, tokenize the text as sequences and use a\n",
    "   sepCNN model to classify them (right branch in the flowchart below):\n",
    "  a. Split the samples into words; select the top 20K words based on their frequency.\n",
    "  b. Convert the samples into word sequence vectors.\n",
    "  c. If the original number of samples/number of words per sample ratio is less\n",
    "     than 15K, using a fine-tuned pre-trained embedding with the sepCNN\n",
    "     model will likely provide the best results.\n",
    "4. Measure the model performance with different hyperparameter values to find\n",
    "   the best model configuration for the dataset."
   ]
  },
  {
   "cell_type": "markdown",
   "metadata": {},
   "source": [
    "Set *vectorization* parameters, limit *number* of features, choose *token mode*, *discard* corpus with frequency < 2"
   ]
  },
  {
   "cell_type": "code",
   "execution_count": 7,
   "metadata": {},
   "outputs": [],
   "source": [
    "NGRAM_RANGE = (1, 2)\n",
    "TOP_K = 20000\n",
    "TOKEN_MODE = 'word' # another option is 'char'\n",
    "MIN_DOC_FREQUENCY = 2"
   ]
  },
  {
   "cell_type": "code",
   "execution_count": 17,
   "metadata": {},
   "outputs": [],
   "source": [
    "def vectorize_ngram(train_texts, train_labels, val_texts):\n",
    "    kwargs = {\n",
    "        'ngram_range': NGRAM_RANGE, # use unigrams & bigrams\n",
    "        'dtype': 'int32',\n",
    "        'strip_accents': 'unicode',\n",
    "        'decode_error': 'replace',\n",
    "        'analyzer': TOKEN_MODE,\n",
    "        'min_df': MIN_DOC_FREQUENCY\n",
    "    }\n",
    "    # Create vectorizer instance\n",
    "    vectorizer = TfidfVectorizer(**kwargs)\n",
    "    # Learn vocabulary from training set & vectorize training texts\n",
    "    X_train = vectorizer.fit_transform(train_texts)\n",
    "    # transform test set\n",
    "    X_val = vectorizer.transform(val_texts)\n",
    "    \n",
    "    # Select top K vectorized features\n",
    "    selector = SelectKBest(score_func=f_classif, k=min(TOP_K, X_train.shape[1]))\n",
    "    selector.fit(X_train, train_labels)\n",
    "    X_train = selector.transform(X_train).astype('float32')\n",
    "    X_val = selector.transform(X_val).astype('float32')\n",
    "    return X_train, X_val"
   ]
  },
  {
   "cell_type": "code",
   "execution_count": 11,
   "metadata": {},
   "outputs": [],
   "source": [
    "from tensorflow.python.keras import models\n",
    "from tensorflow.python.keras.layers import Dense, Dropout"
   ]
  },
  {
   "cell_type": "code",
   "execution_count": 32,
   "metadata": {},
   "outputs": [],
   "source": [
    "def get_last_layer(num_classes):\n",
    "    if num_classes == 2:\n",
    "        activation = 'sigmoid'\n",
    "        units = 1\n",
    "    else:\n",
    "        activation = 'softmax'\n",
    "        units = num_classes\n",
    "    return units, activation\n",
    "\n",
    "def mlp_model(layers, units, dropout_rate, input_shape, num_classes):\n",
    "    op_units, op_activation = get_last_layer(num_classes)\n",
    "    model = models.Sequential()\n",
    "    model.add(Dropout(rate=dropout_rate))\n",
    "    \n",
    "    for _ in range(layers-1):\n",
    "        model.add(Dense(units=units, activation='relu'))\n",
    "        model.add(Dropout(rate=dropout_rate))\n",
    "    # Last layer\n",
    "    model.add(Dense(units=op_units, activation=op_activation))\n",
    "    \n",
    "    return model\n",
    "\n",
    "\n",
    "def train_ngram_model(data,\n",
    "                      learning_rate=1e-3,\n",
    "                      epochs=1000,\n",
    "                      batch_size=128,\n",
    "                      layers=2,\n",
    "                      units=64,\n",
    "                      dropout_rate=0.2):\n",
    "    (train_texts, train_labels, val_texts, val_labels) = data\n",
    "    num_classes = get_num_classes(train_labels)\n",
    "    \n",
    "    unexpected_labels = [l for l in val_labels if l not in range(num_classes)]\n",
    "    if len(unexpected_labels):\n",
    "        raise ValueError(f'there are some unexpected labels in validation set such as {unexpected_labels}.')\n",
    "    \n",
    "    # Vectorize texts:\n",
    "    X_train, X_val = vectorize_ngram(train_texts, train_labels, val_texts)\n",
    "    \n",
    "    # Create a multilayer perceptron\n",
    "    model = mlp_model(layers=layers,\n",
    "                      units=units,\n",
    "                      dropout_rate=dropout_rate,\n",
    "                      input_shape=X_train.shape[1:],\n",
    "                      num_classes=num_classes)\n",
    "    # Choose type of loss\n",
    "    if num_classes == 2:\n",
    "        loss = 'binary_crossentropy'\n",
    "    else:\n",
    "        loss = 'sparse_categorical_crossentropy'\n",
    "    # Pick an optimizer\n",
    "    optimizer = tf.keras.optimizers.Adam(lr=learning_rate)\n",
    "    # Compile the model\n",
    "    model.compile(optimizer=optimizer, loss=loss, metrics=['acc'])\n",
    "    # Stop training if the loss is not converging\n",
    "    callbacks = [tf.keras.callbacks.EarlyStopping(monitor='val_loss', patience=2)]\n",
    "    \n",
    "    history = model.fit(x=X_train,\n",
    "                        y=train_labels,\n",
    "                        epochs=epochs,\n",
    "                        callbacks=callbacks,\n",
    "                        validation_data=(X_val, val_labels),\n",
    "                        verbose=2,  # Logs once per epoch.\n",
    "                        batch_size=batch_size)\n",
    "\n",
    "    history = history.history\n",
    "    print('Validation accuracy: {acc}, loss: {loss}'.format(\n",
    "            acc=history['val_acc'][-1], loss=history['val_loss'][-1]))\n",
    "\n",
    "    # Save model.\n",
    "    model.save('IMDb_mlp_model.h5')\n",
    "    return history['val_acc'][-1], history['val_loss'][-1]"
   ]
  },
  {
   "cell_type": "code",
   "execution_count": 33,
   "metadata": {
    "scrolled": true
   },
   "outputs": [
    {
     "name": "stderr",
     "output_type": "stream",
     "text": [
      "/home/yurii/jupyter_envs/nlp/lib/python3.6/site-packages/sklearn/feature_extraction/text.py:1577: UserWarning: Only (<class 'numpy.float64'>, <class 'numpy.float32'>, <class 'numpy.float16'>) 'dtype' should be used. int32 'dtype' will be converted to np.float64.\n",
      "  UserWarning)\n"
     ]
    },
    {
     "ename": "ValueError",
     "evalue": "Please provide as model inputs either a single array or a list of arrays. You passed: x=  (0, 112)\t0.009362777\n  (0, 253)\t0.01695334\n  (0, 382)\t0.015232822\n  (0, 537)\t0.011793215\n  (0, 680)\t0.025807288\n  (0, 708)\t0.03491824\n  (0, 752)\t0.028357456\n  (0, 769)\t0.046636384\n  (0, 958)\t0.02702803\n  (0, 964)\t0.019627532\n  (0, 972)\t0.01821091\n  (0, 1182)\t0.03337962\n  (0, 1215)\t0.019942911\n  (0, 1377)\t0.0247151\n  (0, 1402)\t0.0376643\n  (0, 1620)\t0.01566047\n  (0, 1647)\t0.021632886\n  (0, 1775)\t0.0083106775\n  (0, 2094)\t0.02946515\n  (0, 2132)\t0.031468213\n  (0, 2137)\t0.026044557\n  (0, 2259)\t0.023916056\n  (0, 2271)\t0.019564958\n  (0, 2281)\t0.011643428\n  (0, 2308)\t0.035241667\n  :\t:\n  (24999, 12125)\t0.04255081\n  (24999, 12777)\t0.07368688\n  (24999, 13663)\t0.069687724\n  (24999, 14262)\t0.046546824\n  (24999, 14265)\t0.0627084\n  (24999, 14437)\t0.030904347\n  (24999, 14472)\t0.045807716\n  (24999, 15214)\t0.04087393\n  (24999, 15591)\t0.06357261\n  (24999, 16119)\t0.032770094\n  (24999, 16141)\t0.059285223\n  (24999, 16152)\t0.08767459\n  (24999, 16180)\t0.09161612\n  (24999, 16244)\t0.091852345\n  (24999, 16510)\t0.086049095\n  (24999, 17213)\t0.0159686\n  (24999, 17553)\t0.0154418275\n  (24999, 17705)\t0.03997247\n  (24999, 17808)\t0.03593197\n  (24999, 17809)\t0.07382394\n  (24999, 18393)\t0.041293267\n  (24999, 18395)\t0.07244558\n  (24999, 18699)\t0.020861581\n  (24999, 18877)\t0.05168561\n  (24999, 19374)\t0.034672137",
     "output_type": "error",
     "traceback": [
      "\u001b[0;31m---------------------------------------------------------------------------\u001b[0m",
      "\u001b[0;31mValueError\u001b[0m                                Traceback (most recent call last)",
      "\u001b[0;32m<ipython-input-33-068f15c68c68>\u001b[0m in \u001b[0;36m<module>\u001b[0;34m\u001b[0m\n\u001b[0;32m----> 1\u001b[0;31m \u001b[0mtrain_ngram_model\u001b[0m\u001b[0;34m(\u001b[0m\u001b[0mdata\u001b[0m\u001b[0;34m=\u001b[0m\u001b[0mload_imdb_sentiment_analysis_data\u001b[0m\u001b[0;34m(\u001b[0m\u001b[0;34m)\u001b[0m\u001b[0;34m)\u001b[0m\u001b[0;34m\u001b[0m\u001b[0m\n\u001b[0m",
      "\u001b[0;32m<ipython-input-32-f33266bd2bf7>\u001b[0m in \u001b[0;36mtrain_ngram_model\u001b[0;34m(data, learning_rate, epochs, batch_size, layers, units, dropout_rate)\u001b[0m\n\u001b[1;32m     63\u001b[0m                         \u001b[0mvalidation_data\u001b[0m\u001b[0;34m=\u001b[0m\u001b[0;34m(\u001b[0m\u001b[0mX_val\u001b[0m\u001b[0;34m,\u001b[0m \u001b[0mval_labels\u001b[0m\u001b[0;34m)\u001b[0m\u001b[0;34m,\u001b[0m\u001b[0;34m\u001b[0m\u001b[0m\n\u001b[1;32m     64\u001b[0m                         \u001b[0mverbose\u001b[0m\u001b[0;34m=\u001b[0m\u001b[0;36m2\u001b[0m\u001b[0;34m,\u001b[0m  \u001b[0;31m# Logs once per epoch.\u001b[0m\u001b[0;34m\u001b[0m\u001b[0m\n\u001b[0;32m---> 65\u001b[0;31m                         batch_size=batch_size)\n\u001b[0m\u001b[1;32m     66\u001b[0m \u001b[0;34m\u001b[0m\u001b[0m\n\u001b[1;32m     67\u001b[0m     \u001b[0mhistory\u001b[0m \u001b[0;34m=\u001b[0m \u001b[0mhistory\u001b[0m\u001b[0;34m.\u001b[0m\u001b[0mhistory\u001b[0m\u001b[0;34m\u001b[0m\u001b[0m\n",
      "\u001b[0;32m~/jupyter_envs/nlp/lib/python3.6/site-packages/tensorflow/python/keras/engine/training.py\u001b[0m in \u001b[0;36mfit\u001b[0;34m(self, x, y, batch_size, epochs, verbose, callbacks, validation_split, validation_data, shuffle, class_weight, sample_weight, initial_epoch, steps_per_epoch, validation_steps, max_queue_size, workers, use_multiprocessing, **kwargs)\u001b[0m\n\u001b[1;32m   1534\u001b[0m         \u001b[0msteps_name\u001b[0m\u001b[0;34m=\u001b[0m\u001b[0;34m'steps_per_epoch'\u001b[0m\u001b[0;34m,\u001b[0m\u001b[0;34m\u001b[0m\u001b[0m\n\u001b[1;32m   1535\u001b[0m         \u001b[0msteps\u001b[0m\u001b[0;34m=\u001b[0m\u001b[0msteps_per_epoch\u001b[0m\u001b[0;34m,\u001b[0m\u001b[0;34m\u001b[0m\u001b[0m\n\u001b[0;32m-> 1536\u001b[0;31m         validation_split=validation_split)\n\u001b[0m\u001b[1;32m   1537\u001b[0m \u001b[0;34m\u001b[0m\u001b[0m\n\u001b[1;32m   1538\u001b[0m     \u001b[0;31m# Prepare validation data.\u001b[0m\u001b[0;34m\u001b[0m\u001b[0;34m\u001b[0m\u001b[0m\n",
      "\u001b[0;32m~/jupyter_envs/nlp/lib/python3.6/site-packages/tensorflow/python/keras/engine/training.py\u001b[0m in \u001b[0;36m_standardize_user_data\u001b[0;34m(self, x, y, sample_weight, class_weight, batch_size, check_steps, steps_name, steps, validation_split)\u001b[0m\n\u001b[1;32m    990\u001b[0m         \u001b[0mx\u001b[0m\u001b[0;34m,\u001b[0m \u001b[0my\u001b[0m\u001b[0;34m,\u001b[0m \u001b[0msample_weight\u001b[0m \u001b[0;34m=\u001b[0m \u001b[0mnext_element\u001b[0m\u001b[0;34m\u001b[0m\u001b[0m\n\u001b[1;32m    991\u001b[0m     x, y, sample_weights = self._standardize_weights(x, y, sample_weight,\n\u001b[0;32m--> 992\u001b[0;31m                                                      class_weight, batch_size)\n\u001b[0m\u001b[1;32m    993\u001b[0m     \u001b[0;32mreturn\u001b[0m \u001b[0mx\u001b[0m\u001b[0;34m,\u001b[0m \u001b[0my\u001b[0m\u001b[0;34m,\u001b[0m \u001b[0msample_weights\u001b[0m\u001b[0;34m\u001b[0m\u001b[0m\n\u001b[1;32m    994\u001b[0m \u001b[0;34m\u001b[0m\u001b[0m\n",
      "\u001b[0;32m~/jupyter_envs/nlp/lib/python3.6/site-packages/tensorflow/python/keras/engine/training.py\u001b[0m in \u001b[0;36m_standardize_weights\u001b[0;34m(self, x, y, sample_weight, class_weight, batch_size)\u001b[0m\n\u001b[1;32m   1022\u001b[0m         \u001b[0;32mif\u001b[0m \u001b[0;32mnot\u001b[0m \u001b[0misinstance\u001b[0m\u001b[0;34m(\u001b[0m\u001b[0mx\u001b[0m\u001b[0;34m,\u001b[0m \u001b[0mnp\u001b[0m\u001b[0;34m.\u001b[0m\u001b[0mndarray\u001b[0m\u001b[0;34m)\u001b[0m \u001b[0;32mand\u001b[0m \u001b[0;32mnot\u001b[0m \u001b[0mtensor_util\u001b[0m\u001b[0;34m.\u001b[0m\u001b[0mis_tensor\u001b[0m\u001b[0;34m(\u001b[0m\u001b[0mx\u001b[0m\u001b[0;34m)\u001b[0m\u001b[0;34m:\u001b[0m\u001b[0;34m\u001b[0m\u001b[0m\n\u001b[1;32m   1023\u001b[0m           raise ValueError('Please provide as model inputs either a single '\n\u001b[0;32m-> 1024\u001b[0;31m                            'array or a list of arrays. You passed: x=' + str(x))\n\u001b[0m\u001b[1;32m   1025\u001b[0m         \u001b[0mall_inputs\u001b[0m\u001b[0;34m.\u001b[0m\u001b[0mappend\u001b[0m\u001b[0;34m(\u001b[0m\u001b[0mx\u001b[0m\u001b[0;34m)\u001b[0m\u001b[0;34m\u001b[0m\u001b[0m\n\u001b[1;32m   1026\u001b[0m \u001b[0;34m\u001b[0m\u001b[0m\n",
      "\u001b[0;31mValueError\u001b[0m: Please provide as model inputs either a single array or a list of arrays. You passed: x=  (0, 112)\t0.009362777\n  (0, 253)\t0.01695334\n  (0, 382)\t0.015232822\n  (0, 537)\t0.011793215\n  (0, 680)\t0.025807288\n  (0, 708)\t0.03491824\n  (0, 752)\t0.028357456\n  (0, 769)\t0.046636384\n  (0, 958)\t0.02702803\n  (0, 964)\t0.019627532\n  (0, 972)\t0.01821091\n  (0, 1182)\t0.03337962\n  (0, 1215)\t0.019942911\n  (0, 1377)\t0.0247151\n  (0, 1402)\t0.0376643\n  (0, 1620)\t0.01566047\n  (0, 1647)\t0.021632886\n  (0, 1775)\t0.0083106775\n  (0, 2094)\t0.02946515\n  (0, 2132)\t0.031468213\n  (0, 2137)\t0.026044557\n  (0, 2259)\t0.023916056\n  (0, 2271)\t0.019564958\n  (0, 2281)\t0.011643428\n  (0, 2308)\t0.035241667\n  :\t:\n  (24999, 12125)\t0.04255081\n  (24999, 12777)\t0.07368688\n  (24999, 13663)\t0.069687724\n  (24999, 14262)\t0.046546824\n  (24999, 14265)\t0.0627084\n  (24999, 14437)\t0.030904347\n  (24999, 14472)\t0.045807716\n  (24999, 15214)\t0.04087393\n  (24999, 15591)\t0.06357261\n  (24999, 16119)\t0.032770094\n  (24999, 16141)\t0.059285223\n  (24999, 16152)\t0.08767459\n  (24999, 16180)\t0.09161612\n  (24999, 16244)\t0.091852345\n  (24999, 16510)\t0.086049095\n  (24999, 17213)\t0.0159686\n  (24999, 17553)\t0.0154418275\n  (24999, 17705)\t0.03997247\n  (24999, 17808)\t0.03593197\n  (24999, 17809)\t0.07382394\n  (24999, 18393)\t0.041293267\n  (24999, 18395)\t0.07244558\n  (24999, 18699)\t0.020861581\n  (24999, 18877)\t0.05168561\n  (24999, 19374)\t0.034672137"
     ]
    }
   ],
   "source": [
    "train_ngram_model(data=load_imdb_sentiment_analysis_data())"
   ]
  },
  {
   "cell_type": "code",
   "execution_count": 51,
   "metadata": {},
   "outputs": [],
   "source": [
    "X_train, y_train, X_test, y_test = load_imdb_sentiment_analysis_data()"
   ]
  },
  {
   "cell_type": "code",
   "execution_count": 52,
   "metadata": {},
   "outputs": [
    {
     "name": "stderr",
     "output_type": "stream",
     "text": [
      "/home/yurii/jupyter_envs/nlp/lib/python3.6/site-packages/sklearn/feature_extraction/text.py:1577: UserWarning: Only (<class 'numpy.float64'>, <class 'numpy.float32'>, <class 'numpy.float16'>) 'dtype' should be used. int32 'dtype' will be converted to np.float64.\n",
      "  UserWarning)\n"
     ]
    }
   ],
   "source": [
    "X_train, X_test = vectorize_ngram(X_train, y_train, X_test)"
   ]
  },
  {
   "cell_type": "code",
   "execution_count": null,
   "metadata": {},
   "outputs": [],
   "source": []
  }
 ],
 "metadata": {
  "kernelspec": {
   "display_name": "Python 3",
   "language": "python",
   "name": "python3"
  },
  "language_info": {
   "codemirror_mode": {
    "name": "ipython",
    "version": 3
   },
   "file_extension": ".py",
   "mimetype": "text/x-python",
   "name": "python",
   "nbconvert_exporter": "python",
   "pygments_lexer": "ipython3",
   "version": "3.6.5"
  }
 },
 "nbformat": 4,
 "nbformat_minor": 2
}
