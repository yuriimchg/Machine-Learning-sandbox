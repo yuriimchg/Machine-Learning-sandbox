{
 "cells": [
  {
   "cell_type": "markdown",
   "metadata": {},
   "source": [
    "### Efficient and Accurate Scene Text detection pipeline (EAST)\n",
    "###### https://www.pyimagesearch.com/2018/08/20/opencv-text-detection-east-text-detector/\n",
    "\n",
    "\n",
    "C++ implementation is able to rotate bounding boxes, though Python is not.<br>\n",
    "Also EAST requires all shapes of image to be **multiple of 32**"
   ]
  },
  {
   "cell_type": "code",
   "execution_count": 5,
   "metadata": {},
   "outputs": [],
   "source": [
    "import os\n",
    "import time\n",
    "import cv2\n",
    "\n",
    "import numpy as np\n",
    "import pandas as pd\n",
    "import matplotlib.pyplot as plt"
   ]
  },
  {
   "cell_type": "code",
   "execution_count": 6,
   "metadata": {},
   "outputs": [],
   "source": [
    "image = cv2.imread('sample.png')\n",
    "orig = image.copy()\n",
    "\n",
    "image = cv2.resize(image, (960, 960))\n",
    "h, w = image.shape[:2]"
   ]
  },
  {
   "cell_type": "code",
   "execution_count": 7,
   "metadata": {},
   "outputs": [],
   "source": [
    "layers = [\"feature_fusion/Conv_7/Sigmoid\", \"feature_fusion/concat_3\"]\n",
    "net = cv2.dnn.readNet(\"frozen_east_text_detection.pb\")\n",
    "\n",
    "blob = cv2.dnn.blobFromImage(image, 1.0, (w, h), (123.68, 116.78, 103.94), swapRB=True, crop=False)\n",
    "net.setInput(blob)\n",
    "\n",
    "scores, geometry = net.forward(layers)"
   ]
  },
  {
   "cell_type": "code",
   "execution_count": 8,
   "metadata": {},
   "outputs": [],
   "source": [
    "cv2.imshow('zx', image)\n",
    "if cv2.waitKey(0) == ord('q'):\n",
    "    cv2.destroyWindow('zx')"
   ]
  },
  {
   "cell_type": "markdown",
   "metadata": {},
   "source": [
    "**rects:** Stores the bounding box (x, y)-coordinates for text regions<br>\n",
    "**confidences:** Stores the probability associated with each of the bounding boxes in rects"
   ]
  },
  {
   "cell_type": "code",
   "execution_count": 11,
   "metadata": {},
   "outputs": [],
   "source": [
    "min_conf = 0.5\n",
    "(numRows, numCols) = scores.shape[2:4]\n",
    "rects = []\n",
    "confidences = []\n",
    " \n",
    "# loop over the number of rows\n",
    "for y in range(0, numRows):\n",
    "    # extract the scores (probabilities), followed by the geometrical\n",
    "    # data used to derive potential bounding box coordinates that\n",
    "    # surround text\n",
    "    scoresData = scores[0, 0, y]\n",
    "    xData0 = geometry[0, 0, y]\n",
    "    xData1 = geometry[0, 1, y]\n",
    "    xData2 = geometry[0, 2, y]\n",
    "    xData3 = geometry[0, 3, y]\n",
    "    anglesData = geometry[0, 4, y]\n",
    "    \n",
    "    for x in range(0, numCols):\n",
    "        if scoresData[x] < 0.5:\n",
    "            continue         \n",
    "        (offsetX, offsetY) = (x * 4.0, y * 4.0)\n",
    "  \n",
    "        angle = anglesData[x]\n",
    "        cos = np.cos(angle)\n",
    "        sin = np.sin(angle)\n",
    "   \n",
    "        h = xData0[x] + xData2[x]\n",
    "        w = xData1[x] + xData3[x]\n",
    "\n",
    "        endX = int(offsetX + (cos * xData1[x]) + (sin * xData2[x]))\n",
    "        endY = int(offsetY - (sin * xData1[x]) + (cos * xData2[x]))\n",
    "        startX = int(endX - w)\n",
    "        startY = int(endY - h)\n",
    "\n",
    "        rects.append((startX, startY, endX, endY))\n",
    "        confidences.append(scoresData[x])"
   ]
  },
  {
   "cell_type": "code",
   "execution_count": null,
   "metadata": {},
   "outputs": [],
   "source": []
  }
 ],
 "metadata": {
  "kernelspec": {
   "display_name": "NLP",
   "language": "python",
   "name": "nlp"
  },
  "language_info": {
   "codemirror_mode": {
    "name": "ipython",
    "version": 3
   },
   "file_extension": ".py",
   "mimetype": "text/x-python",
   "name": "python",
   "nbconvert_exporter": "python",
   "pygments_lexer": "ipython3",
   "version": "3.6.5"
  }
 },
 "nbformat": 4,
 "nbformat_minor": 2
}
