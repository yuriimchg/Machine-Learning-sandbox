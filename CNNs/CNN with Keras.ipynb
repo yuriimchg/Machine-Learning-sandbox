{
 "cells": [
  {
   "cell_type": "code",
   "execution_count": 1,
   "metadata": {
    "scrolled": true
   },
   "outputs": [
    {
     "name": "stderr",
     "output_type": "stream",
     "text": [
      "Using TensorFlow backend.\n"
     ]
    }
   ],
   "source": [
    "from keras.preprocessing.image import img_to_array\n",
    "from keras.models import Sequential\n",
    "from keras.layers.convolutional import Conv2D\n",
    "from keras.layers.core import Activation, Dense, Flatten\n",
    "from keras import backend\n",
    "from keras.optimizers import SGD\n",
    "\n",
    "from sklearn.metrics import classification_report\n",
    "from sklearn.preprocessing import LabelBinarizer as lbin\n",
    "\n",
    "import numpy as np\n",
    "import matplotlib.pyplot as plt"
   ]
  },
  {
   "cell_type": "markdown",
   "metadata": {},
   "source": [
    "<center><h2>ShallowNet</h2>\n",
    "<h4>a CNN with one convolutional layer</h4>\n",
    "\n",
    "<h4> $ INPUT =>  CONV  =>  RELU  =>   FC $</h4>\n",
    "</center>\n"
   ]
  },
  {
   "cell_type": "code",
   "execution_count": 2,
   "metadata": {},
   "outputs": [],
   "source": [
    "class ShallowNet:\n",
    "    @staticmethod\n",
    "    def build(w, h, d, classes):\n",
    "        # Initialize the model\n",
    "        model = Sequential()\n",
    "        # Set the shape of input layer\n",
    "        input_layer_shape = (h,w,d)\n",
    "        # Add CONV layer\n",
    "        model.add(Conv2D(32,(3,3), padding=\"same\", input_shape=input_layer_shape))\n",
    "        # Set activation function of the CONV layer\n",
    "        model.add(Activation(\"relu\"))\n",
    "        # Reshape 32, 3, 3 into 32 * 3 * 3\n",
    "        model.add(Flatten())\n",
    "        # Add softmax classifier\n",
    "        model.add(Dense(classes))\n",
    "        model.add(Activation(\"softmax\"))\n",
    "        \n",
    "        return model"
   ]
  },
  {
   "cell_type": "markdown",
   "metadata": {},
   "source": [
    "### 1. Try ShallowNet with MNIST dataset"
   ]
  },
  {
   "cell_type": "code",
   "execution_count": 3,
   "metadata": {},
   "outputs": [],
   "source": [
    "from keras.datasets import mnist"
   ]
  },
  {
   "cell_type": "markdown",
   "metadata": {},
   "source": [
    "Load MNIST dataset"
   ]
  },
  {
   "cell_type": "code",
   "execution_count": 4,
   "metadata": {},
   "outputs": [],
   "source": [
    "(X_train, y_train), (X_test, y_test) = mnist.load_data()"
   ]
  },
  {
   "cell_type": "code",
   "execution_count": 5,
   "metadata": {},
   "outputs": [],
   "source": [
    "X_train = X_train / 255\n",
    "X_test = X_test / 255"
   ]
  },
  {
   "cell_type": "markdown",
   "metadata": {},
   "source": [
    "Hyperparameters and input shapes"
   ]
  },
  {
   "cell_type": "code",
   "execution_count": 6,
   "metadata": {},
   "outputs": [],
   "source": [
    "learning_rate = 0.01\n",
    "optimizer = SGD(lr=learning_rate, momentum=0.9, nesterov=True)\n",
    "batch_size = 32\n",
    "w, h = X_train[0].shape\n",
    "d = 1\n",
    "classes = 10\n",
    "epochs = 15\n",
    "verbose = 1"
   ]
  },
  {
   "cell_type": "code",
   "execution_count": 7,
   "metadata": {},
   "outputs": [],
   "source": [
    "X_train = X_train.reshape(X_train.shape[0], w, h, 1)\n",
    "X_test = X_test.reshape(X_test.shape[0], w, h, 1)"
   ]
  },
  {
   "cell_type": "code",
   "execution_count": 8,
   "metadata": {
    "scrolled": true
   },
   "outputs": [
    {
     "data": {
      "text/plain": [
       "(32, 28, 28)"
      ]
     },
     "execution_count": 8,
     "metadata": {},
     "output_type": "execute_result"
    }
   ],
   "source": [
    "(batch_size, h,w)"
   ]
  },
  {
   "cell_type": "markdown",
   "metadata": {},
   "source": [
    "Convert labels to one-hot encoding"
   ]
  },
  {
   "cell_type": "code",
   "execution_count": 9,
   "metadata": {},
   "outputs": [],
   "source": [
    "y_train = lbin().fit_transform(y_train)\n",
    "y_test = lbin().fit_transform(y_test)"
   ]
  },
  {
   "cell_type": "code",
   "execution_count": 10,
   "metadata": {
    "scrolled": true
   },
   "outputs": [
    {
     "name": "stdout",
     "output_type": "stream",
     "text": [
      "Train on 60000 samples, validate on 10000 samples\n",
      "Epoch 1/15\n",
      "60000/60000 [==============================] - 6s 94us/step - loss: 0.2591 - acc: 0.9255 - val_loss: 0.1049 - val_acc: 0.9715\n",
      "Epoch 2/15\n",
      "60000/60000 [==============================] - 5s 77us/step - loss: 0.0946 - acc: 0.9725 - val_loss: 0.0794 - val_acc: 0.9767\n",
      "Epoch 3/15\n",
      "60000/60000 [==============================] - 5s 77us/step - loss: 0.0669 - acc: 0.9801 - val_loss: 0.0740 - val_acc: 0.9775\n",
      "Epoch 4/15\n",
      "60000/60000 [==============================] - 5s 76us/step - loss: 0.0541 - acc: 0.9836 - val_loss: 0.0710 - val_acc: 0.9773\n",
      "Epoch 5/15\n",
      "60000/60000 [==============================] - 5s 78us/step - loss: 0.0457 - acc: 0.9863 - val_loss: 0.0593 - val_acc: 0.9812\n",
      "Epoch 6/15\n",
      "60000/60000 [==============================] - 5s 80us/step - loss: 0.0390 - acc: 0.9875 - val_loss: 0.0656 - val_acc: 0.9792\n",
      "Epoch 7/15\n",
      "60000/60000 [==============================] - 5s 81us/step - loss: 0.0332 - acc: 0.9900 - val_loss: 0.0618 - val_acc: 0.9807\n",
      "Epoch 8/15\n",
      "60000/60000 [==============================] - 5s 80us/step - loss: 0.0286 - acc: 0.9911 - val_loss: 0.0586 - val_acc: 0.9825\n",
      "Epoch 9/15\n",
      "60000/60000 [==============================] - 5s 80us/step - loss: 0.0246 - acc: 0.9926 - val_loss: 0.0668 - val_acc: 0.9807\n",
      "Epoch 10/15\n",
      "60000/60000 [==============================] - 5s 80us/step - loss: 0.0219 - acc: 0.9936 - val_loss: 0.0635 - val_acc: 0.9814\n",
      "Epoch 11/15\n",
      "60000/60000 [==============================] - 5s 78us/step - loss: 0.0196 - acc: 0.9941 - val_loss: 0.0685 - val_acc: 0.9805\n",
      "Epoch 12/15\n",
      "60000/60000 [==============================] - 5s 79us/step - loss: 0.0163 - acc: 0.9954 - val_loss: 0.0721 - val_acc: 0.9810\n",
      "Epoch 13/15\n",
      "60000/60000 [==============================] - 5s 80us/step - loss: 0.0140 - acc: 0.9958 - val_loss: 0.0754 - val_acc: 0.9809\n",
      "Epoch 14/15\n",
      "60000/60000 [==============================] - 5s 81us/step - loss: 0.0124 - acc: 0.9966 - val_loss: 0.0678 - val_acc: 0.9820\n",
      "Epoch 15/15\n",
      "60000/60000 [==============================] - 5s 82us/step - loss: 0.0105 - acc: 0.9973 - val_loss: 0.0750 - val_acc: 0.9810\n"
     ]
    }
   ],
   "source": [
    "model = ShallowNet.build(w,h,d, classes)\n",
    "\n",
    "model.compile(loss='categorical_crossentropy', optimizer=optimizer, metrics=[\"accuracy\"])\n",
    "\n",
    "H = model.fit(X_train, y_train, validation_data = (X_test, y_test), batch_size=batch_size, epochs=epochs, verbose = verbose)"
   ]
  },
  {
   "cell_type": "code",
   "execution_count": 11,
   "metadata": {},
   "outputs": [
    {
     "data": {
      "image/png": "[encoded data removed]",
      "text/plain": [
       "<Figure size 1080x432 with 1 Axes>"
      ]
     },
     "metadata": {
      "needs_background": "light"
     },
     "output_type": "display_data"
    }
   ],
   "source": [
    "plt.figure(figsize=(15,6))\n",
    "plt.plot(np.arange(0,epochs), H.history[\"acc\"])\n",
    "plt.plot(np.arange(0,epochs), H.history[\"val_acc\"])\n",
    "plt.legend(('Accuracy', \"Test Acc\"))\n",
    "plt.grid()\n",
    "plt.show()\n"
   ]
  },
  {
   "cell_type": "code",
   "execution_count": 12,
   "metadata": {},
   "outputs": [
    {
     "data": {
      "image/png": "[encoded data removed]",
      "text/plain": [
       "<Figure size 1080x432 with 1 Axes>"
      ]
     },
     "metadata": {
      "needs_background": "light"
     },
     "output_type": "display_data"
    }
   ],
   "source": [
    "plt.figure(figsize=(15,6))\n",
    "plt.plot(np.arange(0,epochs), H.history[\"loss\"])\n",
    "plt.plot(np.arange(0,epochs), H.history[\"val_loss\"])\n",
    "plt.legend(('Losses', \"Test Losses\"))\n",
    "plt.grid()\n",
    "plt.show()"
   ]
  },
  {
   "cell_type": "markdown",
   "metadata": {},
   "source": [
    "[Loss, Accuracy]"
   ]
  },
  {
   "cell_type": "code",
   "execution_count": 13,
   "metadata": {
    "scrolled": true
   },
   "outputs": [
    {
     "name": "stdout",
     "output_type": "stream",
     "text": [
      "10000/10000 [==============================] - 0s 32us/step\n"
     ]
    },
    {
     "data": {
      "text/plain": [
       "[0.07499780817511201, 0.981]"
      ]
     },
     "execution_count": 13,
     "metadata": {},
     "output_type": "execute_result"
    }
   ],
   "source": [
    "model.evaluate(X_test, y_test, verbose=1)\n"
   ]
  }
 ],
 "metadata": {
  "kernelspec": {
   "display_name": "tf",
   "language": "python",
   "name": "tf"
  },
  "language_info": {
   "codemirror_mode": {
    "name": "ipython",
    "version": 3
   },
   "file_extension": ".py",
   "mimetype": "text/x-python",
   "name": "python",
   "nbconvert_exporter": "python",
   "pygments_lexer": "ipython3",
   "version": "3.6.6"
  }
 },
 "nbformat": 4,
 "nbformat_minor": 2
}
