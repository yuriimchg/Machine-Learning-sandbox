{
 "cells": [
  {
   "cell_type": "code",
   "execution_count": 2,
   "metadata": {},
   "outputs": [],
   "source": [
    "from lifelines.plotting import plot_lifetimes\n",
    "import numpy as np\n",
    "from numpy.random import uniform, exponential"
   ]
  },
  {
   "cell_type": "markdown",
   "metadata": {},
   "source": [
    "$$f(x; \\frac{1}{\\beta}) = \\frac{1}{\\beta} \\exp(-\\frac{x}{\\beta})$$"
   ]
  },
  {
   "cell_type": "code",
   "execution_count": 85,
   "metadata": {},
   "outputs": [
    {
     "data": {
      "text/plain": [
       "array([ 0.56630464,  0.08888518, 11.11202347, 13.2500986 ,  1.08525217,\n",
       "        3.99271621,  4.57706611,  0.8646624 ,  0.75572985,  1.01570276,\n",
       "        2.60726577,  6.00868609,  6.99354515, 10.51348136, 16.22744123,\n",
       "        1.61917399, 12.35779027,  0.65979244,  4.12086372,  0.49202537,\n",
       "       15.34007428,  7.40945009,  3.98651787,  4.14885603,  3.94324599])"
      ]
     },
     "execution_count": 85,
     "metadata": {},
     "output_type": "execute_result"
    }
   ],
   "source": [
    "n = 25\n",
    "current_time = 12\n",
    "bound_plot = 30 + 1\n",
    "\n",
    "np.random.seed(41)\n",
    "actual_lifetimes = np.array([exponential(12) if uniform() < 0.5 else exponential(2) for i in range(n)])\n",
    "actual_lifetimes"
   ]
  },
  {
   "cell_type": "markdown",
   "metadata": {},
   "source": [
    "#### Censure"
   ]
  },
  {
   "cell_type": "code",
   "execution_count": 86,
   "metadata": {},
   "outputs": [],
   "source": [
    "observed_lifetimes = np.minimum(actual_lifetimes, current_time)\n",
    "death_observed = actual_lifetimes < current_time"
   ]
  },
  {
   "cell_type": "markdown",
   "metadata": {},
   "source": [
    "#### Plot"
   ]
  },
  {
   "cell_type": "code",
   "execution_count": 87,
   "metadata": {},
   "outputs": [
    {
     "data": {
      "image/png": "[encoded data removed]",
      "text/plain": [
       "<Figure size 432x288 with 1 Axes>"
      ]
     },
     "metadata": {
      "needs_background": "light"
     },
     "output_type": "display_data"
    }
   ],
   "source": [
    "ax = plot_lifetimes(durations=observed_lifetimes, event_observed=death_observed)\n",
    "\n",
    "ax.set_xlim(0, 25)\n",
    "ax.vlines(current_time, 0, bound_plot, lw=2, linestyles='--')\n",
    "\n",
    "ax.set_label('Time')\n",
    "ax.set_title(f'Births & Deaths at $t={current_time}$')\n",
    "ax.set_xticks(range(0, bound_plot, 2))\n",
    "ax.plot();"
   ]
  },
  {
   "cell_type": "markdown",
   "metadata": {},
   "source": [
    "#### Survival function properties:\n",
    "\n",
    "1. $S(t) \\in [0, 1] $\n",
    "2. $F_{T}(t) = 1 - S(t)$\n",
    "3. $S(t)$ is non-increasing"
   ]
  },
  {
   "cell_type": "markdown",
   "metadata": {},
   "source": [
    "#### Hazard function:\n",
    "\n",
    "$$\n",
    "h(t) = \\lim_{\\delta t \\to 0}\\frac{{P(t \\le T \\le t+\\delta t | T>t)}}{\\delta t}\n",
    "$$\n"
   ]
  },
  {
   "cell_type": "markdown",
   "metadata": {},
   "source": [
    "### Kaplan-Meier Estimate\n",
    "\n",
    "$$\n",
    "\\hat{S}(t) = \\prod_{t_i<t}{\\frac{n_i-d_i}{n_i}}\n",
    "$$\n",
    "\n",
    "\n",
    "* $d_i$ - number of death events at time $t$\n",
    "* $n_i$ - number of subjects at risk of death prior to time $t$"
   ]
  },
  {
   "cell_type": "code",
   "execution_count": 90,
   "metadata": {},
   "outputs": [
    {
     "data": {
      "text/html": [
       "<div>\n",
       "<style scoped>\n",
       "    .dataframe tbody tr th:only-of-type {\n",
       "        vertical-align: middle;\n",
       "    }\n",
       "\n",
       "    .dataframe tbody tr th {\n",
       "        vertical-align: top;\n",
       "    }\n",
       "\n",
       "    .dataframe thead th {\n",
       "        text-align: right;\n",
       "    }\n",
       "</style>\n",
       "<table border=\"1\" class=\"dataframe\">\n",
       "  <thead>\n",
       "    <tr style=\"text-align: right;\">\n",
       "      <th></th>\n",
       "      <th>ctryname</th>\n",
       "      <th>cowcode2</th>\n",
       "      <th>politycode</th>\n",
       "      <th>un_region_name</th>\n",
       "      <th>un_continent_name</th>\n",
       "      <th>ehead</th>\n",
       "      <th>leaderspellreg</th>\n",
       "      <th>democracy</th>\n",
       "      <th>regime</th>\n",
       "      <th>start_year</th>\n",
       "      <th>duration</th>\n",
       "      <th>observed</th>\n",
       "    </tr>\n",
       "  </thead>\n",
       "  <tbody>\n",
       "    <tr>\n",
       "      <th>1290</th>\n",
       "      <td>Portugal</td>\n",
       "      <td>235</td>\n",
       "      <td>235.0</td>\n",
       "      <td>Southern Europe</td>\n",
       "      <td>Europe</td>\n",
       "      <td>Marcelo Caetano</td>\n",
       "      <td>Marcelo Caetano.Portugal.1968.1973.Civilian Dict</td>\n",
       "      <td>Non-democracy</td>\n",
       "      <td>Civilian Dict</td>\n",
       "      <td>1968</td>\n",
       "      <td>6</td>\n",
       "      <td>1</td>\n",
       "    </tr>\n",
       "    <tr>\n",
       "      <th>1082</th>\n",
       "      <td>Myanmar</td>\n",
       "      <td>775</td>\n",
       "      <td>775.0</td>\n",
       "      <td>South-Eastern Asia</td>\n",
       "      <td>Asia</td>\n",
       "      <td>U Nu</td>\n",
       "      <td>U Nu.Myanmar.1960.1961.Parliamentary Dem</td>\n",
       "      <td>Democracy</td>\n",
       "      <td>Parliamentary Dem</td>\n",
       "      <td>1960</td>\n",
       "      <td>2</td>\n",
       "      <td>1</td>\n",
       "    </tr>\n",
       "    <tr>\n",
       "      <th>1134</th>\n",
       "      <td>New Zealand</td>\n",
       "      <td>920</td>\n",
       "      <td>920.0</td>\n",
       "      <td>Australia and New Zealand</td>\n",
       "      <td>Oceania</td>\n",
       "      <td>Norman Kirk</td>\n",
       "      <td>Norman Kirk.New Zealand.1972.1973.Parliamentar...</td>\n",
       "      <td>Democracy</td>\n",
       "      <td>Parliamentary Dem</td>\n",
       "      <td>1972</td>\n",
       "      <td>2</td>\n",
       "      <td>0</td>\n",
       "    </tr>\n",
       "  </tbody>\n",
       "</table>\n",
       "</div>"
      ],
      "text/plain": [
       "         ctryname  cowcode2  politycode             un_region_name  \\\n",
       "1290     Portugal       235       235.0            Southern Europe   \n",
       "1082      Myanmar       775       775.0         South-Eastern Asia   \n",
       "1134  New Zealand       920       920.0  Australia and New Zealand   \n",
       "\n",
       "     un_continent_name            ehead  \\\n",
       "1290            Europe  Marcelo Caetano   \n",
       "1082              Asia             U Nu   \n",
       "1134           Oceania      Norman Kirk   \n",
       "\n",
       "                                         leaderspellreg      democracy  \\\n",
       "1290   Marcelo Caetano.Portugal.1968.1973.Civilian Dict  Non-democracy   \n",
       "1082           U Nu.Myanmar.1960.1961.Parliamentary Dem      Democracy   \n",
       "1134  Norman Kirk.New Zealand.1972.1973.Parliamentar...      Democracy   \n",
       "\n",
       "                 regime  start_year  duration  observed  \n",
       "1290      Civilian Dict        1968         6         1  \n",
       "1082  Parliamentary Dem        1960         2         1  \n",
       "1134  Parliamentary Dem        1972         2         0  "
      ]
     },
     "execution_count": 90,
     "metadata": {},
     "output_type": "execute_result"
    }
   ],
   "source": [
    "from lifelines.datasets import load_dd\n",
    "from lifelines import KaplanMeierFitter\n",
    "\n",
    "kmf = KaplanMeierFitter()\n",
    "\n",
    "df = load_dd()\n",
    "df.sample(3)"
   ]
  },
  {
   "cell_type": "code",
   "execution_count": 91,
   "metadata": {},
   "outputs": [
    {
     "data": {
      "text/plain": [
       "<lifelines.KaplanMeierFitter: fitted with 1808 observations, 340 censored>"
      ]
     },
     "execution_count": 91,
     "metadata": {},
     "output_type": "execute_result"
    }
   ],
   "source": [
    "timeline = df['duration']\n",
    "event = df['observed']\n",
    "\n",
    "kmf.fit(durations=timeline, event_observed=event)"
   ]
  },
  {
   "cell_type": "code",
   "execution_count": 109,
   "metadata": {},
   "outputs": [
    {
     "data": {
      "image/png": "[encoded data removed]",
      "text/plain": [
       "<Figure size 864x288 with 1 Axes>"
      ]
     },
     "metadata": {
      "needs_background": "light"
     },
     "output_type": "display_data"
    }
   ],
   "source": [
    "ax = plt.subplot(111)\n",
    "\n",
    "kmf.plot(ax=ax)\n",
    "kmf.survival_function_.plot(figsize=(12,4), grid=True, ax=ax)\n",
    "\n",
    "ax.set_title('Survival function of political regimes')\n",
    "ax.plot();\n"
   ]
  },
  {
   "cell_type": "code",
   "execution_count": null,
   "metadata": {},
   "outputs": [],
   "source": [
    "ax = plt.subplot(111)\n",
    "\n",
    "ax.set_title('Comparison of democratic & non-democratic governanments')\n",
    "democracy = (df['democracy'] == 'Democracy')\n",
    "kmf.fit(durations=timeline[democracy], event_observed=event[democracy], label='Democration')\n",
    "kmf.plot(ax=ax, figsize=(10, 5), grid=True)\n",
    "kmf.fit(durations=timeline[~democracy], event_observed=event[~democracy], label='Non-democratic authorities')\n",
    "kmf.plot(ax=ax, grid=True)\n",
    "plt.ylim(0,1)\n",
    "\n",
    "plt.xticks(range(0, 50, 2))\n",
    "plt.yticks(np.arange(0, 1, 0.1))\n",
    "ax.plot();\n"
   ]
  },
  {
   "cell_type": "code",
   "execution_count": null,
   "metadata": {},
   "outputs": [],
   "source": []
  }
 ],
 "metadata": {
  "kernelspec": {
   "display_name": "TimeSeries",
   "language": "python",
   "name": "timeseries"
  },
  "language_info": {
   "codemirror_mode": {
    "name": "ipython",
    "version": 3
   },
   "file_extension": ".py",
   "mimetype": "text/x-python",
   "name": "python",
   "nbconvert_exporter": "python",
   "pygments_lexer": "ipython3",
   "version": "3.6.6"
  }
 },
 "nbformat": 4,
 "nbformat_minor": 2
}
